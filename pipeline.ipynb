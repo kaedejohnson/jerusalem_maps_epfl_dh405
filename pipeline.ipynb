{
 "cells": [
  {
   "cell_type": "markdown",
   "metadata": {},
   "source": [
    "# 0: Import packages"
   ]
  },
  {
   "cell_type": "code",
   "execution_count": null,
   "metadata": {},
   "outputs": [],
   "source": [
    "from PIL import Image, ImageFile #pip install Pillow==9.4.0\n",
    "import sys\n",
    "import os\n",
    "import numpy as np\n",
    "import logging\n",
    "import glob\n",
    "import subprocess\n",
    "import json\n",
    "import pandas as pd\n",
    "\n",
    "from ImageCrop import ImagePreprocessor\n",
    "from SpotterWrapper import Spotter, PolygonVisualizer\n",
    "from IPython.display import display\n",
    "from shapely.geometry import Polygon\n",
    "\n",
    "logging.basicConfig(level=logging.INFO)\n",
    "Image.MAX_IMAGE_PIXELS=None\n",
    "ImageFile.LOAD_TRUNCATED_IMAGES = True\n"
   ]
  },
  {
   "cell_type": "markdown",
   "metadata": {},
   "source": [
    "# 1: Specify filepaths"
   ]
  },
  {
   "cell_type": "code",
   "execution_count": null,
   "metadata": {},
   "outputs": [],
   "source": [
    "# Name folders for raw data and processed data\n",
    "map_data_topfolder = 'raw_maps_20231024'\n",
    "map_strec_topfolder = 'processed/strec'\n",
    "\n",
    "for fp in [map_strec_topfolder]:\n",
    "    if not os.path.isdir(fp):\n",
    "        os.makedirs(fp)\n",
    "\n",
    "# IMPORTANT! Locate spotter directory and detectron weights\n",
    "git_clone_location = 'C:/repo/'\n",
    "spotter_directory = git_clone_location + 'mapkurator-spotter/spotter-v2'\n",
    "model_weights = git_clone_location + 'detectron2-master/detectron2/checkpoint/model_v2_en.pth'\n",
    "spotter_config = spotter_directory + '/configs/PALEJUN/Finetune/Rumsey_Polygon_Finetune.yaml'"
   ]
  },
  {
   "cell_type": "markdown",
   "metadata": {},
   "source": [
    "# 2: Crop all jpeg maps in (user defined) map_data_topfolder"
   ]
  },
  {
   "cell_type": "code",
   "execution_count": null,
   "metadata": {},
   "outputs": [],
   "source": [
    "def pyramid_scan(img_path, output_dir, save_each_layer=False):\n",
    "    image = Image.open(img_path)\n",
    "    image_preprocessor = ImagePreprocessor(image, overlapping_tolerance=0.3, num_layers=5, min_patch_resolution=512, max_patch_resolution=4096)\n",
    "    image_preprocessor.process()\n",
    "    print(\"preprocessing done\")\n",
    "    spotter = Spotter(spotter_config, model_weights, confidence_thresh=0.7, draw_thresh=0.85)\n",
    "    all_layer_results = []\n",
    "\n",
    "    base_image_batch, base_offset_xs, base_offset_ys = image_preprocessor.get_image_patches(0)\n",
    "    vis = PolygonVisualizer()\n",
    "    vis.canvas_from_patches(base_image_batch, base_offset_xs, base_offset_ys)\n",
    "\n",
    "    for i in range(image_preprocessor.num_layers):\n",
    "        # If you want to save for each layer, uncomment the following line\n",
    "        # image_preprocessor.save_patches(os.path.join(output_dir, f'layer_{i}_patches'), layer=i)\n",
    "\n",
    "        image_batch, offset_xs, offset_ys = image_preprocessor.get_image_patches(i)\n",
    "        spotter.load_batch(image_batch, offset_xs, offset_ys)\n",
    "        results = spotter.inference_batch()\n",
    "        all_layer_results.extend(results)\n",
    "\n",
    "        #all_layer_offset_xs.extend(offset_xs)\n",
    "        #all_layer_offset_ys.extend(offset_ys)\n",
    "\n",
    "        if save_each_layer == True:\n",
    "            vis.draw(results).save(os.path.join(output_dir, f'combined_tagged_{i}.png'))\n",
    "            vis.save_json(results, os.path.join(output_dir, f'combined_tagged_{i}.json'))\n",
    "        else:\n",
    "            pass\n",
    "\n",
    "    vis.draw(all_layer_results).save(os.path.join(output_dir, f'combined_tagged_all_layers.png'))\n",
    "    vis.save_json(all_layer_results, os.path.join(output_dir, f'combined_tagged_all_layers.json'))\n",
    "\n",
    "# Run crop on all maps\n",
    "for map_data_subfolder in next(os.walk(map_data_topfolder))[1]:\n",
    "    jpeg_list = glob.glob(map_data_topfolder + '/' + map_data_subfolder + '/*.jpeg')\n",
    "    if len(jpeg_list) != 1:\n",
    "        print(map_data_subfolder + \" failed. Please ensure there is exactly 1 file with extension .jpeg in the folder.\")\n",
    "    else:\n",
    "        map_image = jpeg_list[0].split(\"\\\\\")[1]\n",
    "        if map_data_subfolder in ['1846_vandevelde', '1874_saunders', '1845_kiepert']: # '1858_vandevelde', '1874_saunders', '1845_kiepert']: #,,]: #'1858_vandevelde', '1847_tobler', '1845_kiepert'\n",
    "            img_path = map_data_topfolder + '/' + map_data_subfolder + \"/\" + map_image\n",
    "            map_name = os.path.basename(img_path).split('.')[0] # get the map name without extension\n",
    "            output_dir = os.path.join(map_strec_topfolder, map_name)\n",
    "            if not os.path.isdir(output_dir):\n",
    "                os.makedirs(output_dir)\n",
    "            pyramid_scan(img_path, output_dir, save_each_layer=False)\n",
    "            logging.info('Done cropping %s' %img_path )"
   ]
  },
  {
   "cell_type": "markdown",
   "metadata": {},
   "source": [
    "# 3: Label Combination"
   ]
  },
  {
   "cell_type": "code",
   "execution_count": 2,
   "metadata": {},
   "outputs": [
    {
     "name": "stdout",
     "output_type": "stream",
     "text": [
      "Using device: cuda\n",
      "Using device: cuda\n",
      "Using device: cuda\n",
      "Using device: cuda\n",
      "Using device: cuda\n"
     ]
    }
   ],
   "source": [
    "from PIL import Image, ImageFile\n",
    "import json \n",
    "import pandas as pd\n",
    "from collections import Counter\n",
    "from shapely.geometry import Polygon, MultiPolygon\n",
    "from itertools import combinations\n",
    "\n",
    "import numpy as np\n",
    "import importlib\n",
    "import Clustering\n",
    "import TextRectify\n",
    "import TextAmalgamate\n",
    "import ExtractHandling\n",
    "import json\n",
    "import pickle\n",
    "import SpotterWrapper\n",
    "import Grouping\n",
    "import BezierSplineMetric\n",
    "import FontSimilarity\n",
    "import SequenceRecovery\n",
    "import SubwordDeduplication as sd\n",
    "import NestedWordFlattening as nwf\n",
    "import RumseyMetric\n",
    "import SingleLineSequenceRecovery as slsr\n",
    "importlib.reload(SpotterWrapper)\n",
    "importlib.reload(Grouping)\n",
    "importlib.reload(Clustering)\n",
    "importlib.reload(TextRectify)\n",
    "importlib.reload(TextAmalgamate)\n",
    "importlib.reload(ExtractHandling)\n",
    "importlib.reload(BezierSplineMetric)\n",
    "importlib.reload(FontSimilarity)\n",
    "importlib.reload(SequenceRecovery)\n",
    "\n",
    "map_name_in_strec = 'vandevelde_1846' # 'kiepert_1845', 'saunders_1874', 'vandevelde_1846'"
   ]
  },
  {
   "cell_type": "markdown",
   "metadata": {},
   "source": [
    "## 3.1 Subword Deduplication"
   ]
  },
  {
   "cell_type": "code",
   "execution_count": 8,
   "metadata": {},
   "outputs": [
    {
     "name": "stdout",
     "output_type": "stream",
     "text": [
      "971 polygons kept.\n"
     ]
    }
   ],
   "source": [
    "sd.subword_deduplication(map_name_in_strec, do_cluster_pre_merge=True)"
   ]
  },
  {
   "cell_type": "markdown",
   "metadata": {},
   "source": [
    "## 3.2 Nested Word Flattening"
   ]
  },
  {
   "cell_type": "code",
   "execution_count": 2,
   "metadata": {},
   "outputs": [],
   "source": [
    "def testing_vis(df, map_name_in_strec, suffix):\n",
    "    polygons = [el[0] for el in df['labels']]\n",
    "    texts = [el[1] for el in df['labels']]\n",
    "    vis = SpotterWrapper.PolygonVisualizer()\n",
    "    canvas = Image.open(f'processed/strec/{map_name_in_strec}/raw.jpeg')\n",
    "    vis.canvas_from_image(canvas)\n",
    "    vis.draw_poly(polygons, texts, PCA_feature_list=None, BSplines=None, random_color=True)\n",
    "    vis.save(f'processed/strec/{map_name_in_strec}/testing_{suffix}.jpeg')"
   ]
  },
  {
   "cell_type": "code",
   "execution_count": 11,
   "metadata": {},
   "outputs": [
    {
     "name": "stdout",
     "output_type": "stream",
     "text": [
      "971 labels.\n",
      "893 labels.\n",
      "870 labels.\n",
      "867 labels.\n",
      "866 labels.\n",
      "Amalgamation completed with 866 labels.\n"
     ]
    }
   ],
   "source": [
    "# Amalgamation stage - assumes there exists \"combined_tagged_all_layers_rectified_premerge.json\" in map_name_in_strec processed folder.\n",
    "df = ExtractHandling.prepare_labels_for_amalgamation(map_name_in_strec)\n",
    "df_orig = TextAmalgamate.amalgamate_labels_wrapper(df, 0.75, .5)\n",
    "# Save amalgamated labels\n",
    "with open(f'processed/strec/{map_name_in_strec}/deduplicated_flattened_labels.pickle', 'wb') as handle:\n",
    "    pickle.dump(df_orig, handle, protocol=pickle.HIGHEST_PROTOCOL)\n",
    "# Save visualization\n",
    "testing_vis(df_orig, map_name_in_strec, \"orig_nwf\")"
   ]
  },
  {
   "cell_type": "code",
   "execution_count": null,
   "metadata": {},
   "outputs": [],
   "source": [
    "# Amalgamation stage - assumes there exists \"combined_tagged_all_layers_rectified_premerge.json\" in map_name_in_strec processed folder.\n",
    "df = ExtractHandling.prepare_labels_for_amalgamation(map_name_in_strec)\n",
    "df_new = pd.DataFrame({\"labels\": nwf.nwf_wrapper(df['labels'].tolist(), 0.75, 0.5)})\n",
    "# Save amalgamated labels\n",
    "with open(f'processed/strec/{map_name_in_strec}/deduplicated_flattened_labels.pickle', 'wb') as handle:\n",
    "    pickle.dump(df_new, handle, protocol=pickle.HIGHEST_PROTOCOL)\n",
    "# Save visualization\n",
    "testing_vis(df_new, map_name_in_strec, \"new_nwf\")"
   ]
  },
  {
   "cell_type": "markdown",
   "metadata": {},
   "source": [
    "## 3.3 Multi-Word Sequence Recovery"
   ]
  },
  {
   "cell_type": "markdown",
   "metadata": {},
   "source": [
    "### 3.3.1 Prepare by calculating spline and font metrics"
   ]
  },
  {
   "cell_type": "code",
   "execution_count": 13,
   "metadata": {},
   "outputs": [],
   "source": [
    "df = pickle.load(open('processed/strec/' + map_name_in_strec + '/deduplicated_flattened_labels.pickle', 'rb'))\n",
    "df['polygons'] = df['labels'].apply(lambda x: x[0])\n",
    "df['texts'] = df['labels'].apply(lambda x: x[1])\n",
    "\n",
    "# Uncomment to draw splines later\n",
    "## BezierSplineMetric.draw_splines(map_name_in_strec, polygons, texts, PCA_features, all_splines)\n",
    "\n",
    "# reset index so list-based operations match df index\n",
    "df = df.reset_index(drop=True).copy()\n",
    "\n",
    "# pca for principal directions\n",
    "df['PCA_features'] = Grouping.calc_PCA_feats(df['polygons'], do_separation=True, enhance_coords=True)\n",
    "\n",
    "# find neighbors for spline and font metric consideration\n",
    "df = BezierSplineMetric.calc_neighbours(df, radius_multiplier = 40)\n",
    "\n",
    "# calculate spline metric between identified neighbors\n",
    "df = BezierSplineMetric.spline_metric(df)\n",
    "\n",
    "# calculate font metric between identified neighbors - long due to need to work with images\n",
    "df = FontSimilarity.calc_font_similarities(df, map_name_in_strec)\n",
    "\n",
    "# calculate rumsey metric for combination\n",
    "df = RumseyMetric.calc_rumsey_metric(df)\n",
    "\n",
    "with open(f'processed/strec/{map_name_in_strec}/seq_rec_prepared_labels.pickle', 'wb') as handle:\n",
    "    pickle.dump(df, handle, protocol=pickle.HIGHEST_PROTOCOL)"
   ]
  },
  {
   "cell_type": "code",
   "execution_count": null,
   "metadata": {},
   "outputs": [],
   "source": [
    "# Optional - draw splines\n",
    "#df = pickle.load(open(f'processed/strec/{map_name_in_strec}/seq_rec_prepared_labels.pickle', 'rb'))\n",
    "#BezierSplineMetric.draw_splines(map_name_in_strec, df['polygons'].tolist(), df['texts'].tolist(), df['PCA_features'].tolist(), df['all_splines'].explode().dropna().tolist(), spline_metric_threshold = 0.01)"
   ]
  },
  {
   "cell_type": "markdown",
   "metadata": {},
   "source": [
    "### 3.3.2 Iterative Sequence Recovery"
   ]
  },
  {
   "cell_type": "markdown",
   "metadata": {},
   "source": [
    "#### A. Rumsey's Method"
   ]
  },
  {
   "cell_type": "code",
   "execution_count": 15,
   "metadata": {},
   "outputs": [
    {
     "name": "stdout",
     "output_type": "stream",
     "text": [
      "865 labels.\n",
      "584 labels.\n",
      "Sequence Recovery completed with 584 labels.\n"
     ]
    }
   ],
   "source": [
    "# load in seq rec prepared\n",
    "df = pickle.load(open(f'processed/strec/{map_name_in_strec}/seq_rec_prepared_labels.pickle', 'rb'))\n",
    "## Drop PCA_features - no longer needed, makes me feel good to discard stuff i don't need\n",
    "df.drop('PCA_features', axis=1, inplace=True)\n",
    "df.drop('all_splines', axis=1, inplace=True)\n",
    "\n",
    "# calculate using rumsey metric\n",
    "df = SequenceRecovery.sl_sequence_recovery_wrapper(df, use_rumsey_metric=True)\n",
    "\n",
    "# map to dataframe\n",
    "new_texts = []\n",
    "new_labels = []\n",
    "for index, row in df.iterrows():\n",
    "    sorted_text = sorted(row['text_list'], key=lambda x: x[0][0])\n",
    "    new_texts.append(\" \".join([_text[1] for _text in sorted_text]))\n",
    "    new_labels.append((row['labels'][0], row['texts']))\n",
    "df['labels'] = new_labels\n",
    "df['texts'] = new_texts\n",
    "\n",
    "# save\n",
    "with open(f'processed/strec/{map_name_in_strec}/fully_processed_labels_rumsey.pickle', 'wb') as handle:\n",
    "    pickle.dump(df, handle, protocol=pickle.HIGHEST_PROTOCOL)"
   ]
  },
  {
   "cell_type": "markdown",
   "metadata": {},
   "source": [
    "#### B. Our Method - Old, Issues with Two Recovered Sequences Combining"
   ]
  },
  {
   "cell_type": "code",
   "execution_count": 2,
   "metadata": {},
   "outputs": [
    {
     "name": "stdout",
     "output_type": "stream",
     "text": [
      "865 labels.\n",
      "604 labels.\n",
      "502 labels.\n",
      "465 labels.\n",
      "450 labels.\n",
      "443 labels.\n",
      "441 labels.\n",
      "Sequence Recovery completed with 441 labels.\n"
     ]
    }
   ],
   "source": [
    "# load in seq rec prepared\n",
    "df = pickle.load(open(f'processed/strec/{map_name_in_strec}/seq_rec_prepared_labels.pickle', 'rb'))\n",
    "## Drop PCA_features - no longer needed, makes me feel good to discard stuff i don't need\n",
    "df.drop('PCA_features', axis=1, inplace=True)\n",
    "df.drop('all_splines', axis=1, inplace=True)\n",
    "\n",
    "# calculate using our metric\n",
    "df = SequenceRecovery.sl_sequence_recovery_wrapper(df, font_threshold=.5, bezier_threshold=1.5, use_rumsey_metric=False)\n",
    "\n",
    "# map to dataframe\n",
    "new_texts = []\n",
    "new_labels = []\n",
    "for index, row in df.iterrows():\n",
    "    sorted_text = sorted(row['text_list'], key=lambda x: x[0][0])\n",
    "    new_texts.append(\" \".join([_text[1] for _text in sorted_text]))\n",
    "    new_labels.append((row['labels'][0], row['texts']))\n",
    "\n",
    "df['labels'] = new_labels\n",
    "df['texts'] = new_texts\n",
    "\n",
    "# save\n",
    "with open(f'processed/strec/{map_name_in_strec}/fully_processed_labels.pickle', 'wb') as handle:\n",
    "    pickle.dump(df, handle, protocol=pickle.HIGHEST_PROTOCOL)"
   ]
  },
  {
   "cell_type": "markdown",
   "metadata": {},
   "source": [
    "#### C. Our Method - New, but why isn't it reducing as much as old?"
   ]
  },
  {
   "cell_type": "code",
   "execution_count": 3,
   "metadata": {},
   "outputs": [
    {
     "name": "stdout",
     "output_type": "stream",
     "text": [
      "865 labels.\n",
      "509 labels.\n",
      "482 labels.\n",
      "Retained 482.\n"
     ]
    }
   ],
   "source": [
    "# load in seq rec prepared\n",
    "df = pickle.load(open(f'processed/strec/{map_name_in_strec}/seq_rec_prepared_labels.pickle', 'rb'))\n",
    "\n",
    "bezier_costs = df['bezier_scores'].tolist()\n",
    "font_similarities = df['font_scores'].tolist()\n",
    "neighbours = df['neighbours'].tolist()\n",
    "labels = df['labels'].tolist()\n",
    "indices, labels, bezier_costs, font_similarities, neighbours, text_lists = slsr.sl_seq_req_wrapper(labels, bezier_costs, font_similarities, neighbours, 0, 1.5)\n",
    "df = pd.DataFrame({\"labels\":labels})\n",
    "\n",
    "# save\n",
    "with open(f'processed/strec/{map_name_in_strec}/fully_processed_labels_altslsr.pickle', 'wb') as handle:\n",
    "    pickle.dump(df, handle, protocol=pickle.HIGHEST_PROTOCOL)\n"
   ]
  },
  {
   "cell_type": "markdown",
   "metadata": {},
   "source": [
    "# 4: Evaluation"
   ]
  },
  {
   "cell_type": "code",
   "execution_count": 4,
   "metadata": {},
   "outputs": [],
   "source": [
    "from PIL import Image, ImageFile\n",
    "import pandas as pd\n",
    "from itertools import combinations\n",
    "import scipy\n",
    "import numpy as np\n",
    "import importlib \n",
    "\n",
    "import Evaluation\n",
    "import ExtractHandling\n",
    "importlib.reload(Evaluation)\n",
    "%load_ext autoreload"
   ]
  },
  {
   "cell_type": "markdown",
   "metadata": {},
   "source": [
    "## 4.1: Isolate crops to be used for evaluation"
   ]
  },
  {
   "cell_type": "code",
   "execution_count": 33,
   "metadata": {},
   "outputs": [],
   "source": [
    "\n",
    "def visualize_crop(map_name_in_strec, raw_or_spotter, left_x, right_x, top_y, bottom_y):\n",
    "    if raw_or_spotter == \"raw\":\n",
    "        map_img = Image.open('processed/strec/' + map_name_in_strec + '/raw.jpeg') \n",
    "    elif raw_or_spotter == \"spotter_0\":\n",
    "        map_img = Image.open('processed/strec/' + map_name_in_strec + '/combined_tagged_0.png')\n",
    "    elif raw_or_spotter == \"spotter_1\":\n",
    "        map_img = Image.open('processed/strec/' + map_name_in_strec + '/combined_tagged_1.png')\n",
    "    elif raw_or_spotter == \"spotter_2\":\n",
    "        map_img = Image.open('processed/strec/' + map_name_in_strec + '/combined_tagged_2.png')\n",
    "    elif raw_or_spotter == \"all\":\n",
    "        map_img = Image.open('processed/strec/' + map_name_in_strec + '/combined_tagged_all_layers.png')\n",
    "    elif raw_or_spotter == \"rectified\":\n",
    "        map_img = Image.open('processed/strec/' + map_name_in_strec + '/combined_tagged_all_layers_rectified.png')\n",
    "    width, height = map_img.size\n",
    "    print(\"full map is \" + str(width) + \" pixels wide by \" + str(height) + \" pixels high.\\n displaying crop:\")\n",
    "    display(map_img.crop((left_x, top_y, right_x, bottom_y, )))\n",
    "\n",
    "left_x = 2475\n",
    "right_x = 3550\n",
    "top_y = 4820\n",
    "bottom_y = 5850\n",
    "\n",
    "#visualize_crop(\"kiepert_1845\", \"all\", left_x, right_x, top_y, bottom_y)"
   ]
  },
  {
   "cell_type": "markdown",
   "metadata": {},
   "source": [
    "## 4.2 Precision and Recall: 1:1 Matching on Geometry, then IoU"
   ]
  },
  {
   "cell_type": "code",
   "execution_count": 5,
   "metadata": {},
   "outputs": [
    {
     "name": "stdout",
     "output_type": "stream",
     "text": [
      "\n",
      "vandevelde_1846 baseline (gt = components)\n",
      "\n",
      "Avg of Geographic Precision: 0.10768564771776375\n",
      "Avg of Text Precision: 0.11568854680573216\n",
      "Avg of Geographic Recall: 0.5109340306608791\n",
      "Avg of Text Recall: 0.548905232716559\n",
      "\n",
      "vandevelde_1846 pyramid - subword dedup, nested word flattening (gt = components)\n",
      "\n",
      "Avg of Geographic Precision: 0.29380799413381703\n",
      "Avg of Text Precision: 0.29109991325831946\n",
      "Avg of Geographic Recall: 0.5532342017200597\n",
      "Avg of Text Recall: 0.5481349430502399\n",
      "\n",
      "vandevelde_1846 pyramid - subword dedup, nested word flattening, our sequence recovery (gt = components)\n",
      "\n",
      "Avg of Geographic Precision: 0.5153360389487641\n",
      "Avg of Text Precision: 0.5968818765592219\n",
      "Avg of Geographic Recall: 0.3234555989146498\n",
      "Avg of Text Recall: 0.3746386246488733\n",
      "\n",
      "vandevelde_1846 pyramid - subword dedup, nested word flattening, our sequence recovery alt (gt = components)\n",
      "\n",
      "Avg of Geographic Precision: 0.5239873569999334\n",
      "Avg of Text Precision: 0.5843954148984797\n",
      "Avg of Geographic Recall: 0.6131766943616241\n",
      "Avg of Text Recall: 0.6838669748811996\n"
     ]
    }
   ],
   "source": [
    "kiepert_gt_patches = [[1750, 3750, 4775, 6200], [2250, 4050, 6050, 7500]] #,[2475, 3550, 4820, 5850]]\n",
    "saunders_gt_patches = [[2350, 3850, 1750, 3250], [6450, 7500, 2200, 3250], [5400, 6400, 4500, 5500], [7650, 8650, 5400, 6400], [7650, 8650, 3150, 4150]] #\n",
    "vandevelde_gt_patches = [[2850, 5250, 1450, 3850]]\n",
    "\n",
    "# Gimme them numbers :)\n",
    "\n",
    "kname = \"kiepert_1845\"\n",
    "vname = \"vandevelde_1846\"\n",
    "sname = \"saunders_1874\"\n",
    "\n",
    "multiline_handling = \"components\" # \"largest\" for multiline gt\n",
    "\n",
    "#Evaluation.prec_rec_wrapper(kname, multiline_handling, kiepert_gt_patches)\n",
    "#Evaluation.prec_rec_wrapper(sname, multiline_handling, saunders_gt_patches)\n",
    "Evaluation.prec_rec_wrapper(vname, multiline_handling, vandevelde_gt_patches)"
   ]
  },
  {
   "cell_type": "markdown",
   "metadata": {},
   "source": [
    "## 5: Plot and Save results"
   ]
  },
  {
   "cell_type": "code",
   "execution_count": 6,
   "metadata": {},
   "outputs": [],
   "source": [
    "import shapely as sh\n",
    "save_map_name_in_strec = 'vandevelde_1846' # 'kiepert_1845', 'saunders_1874', 'vandevelde_1846'\n",
    "\n",
    "# Plot the final image\n",
    "Evaluation.plot_recovered_seq(save_map_name_in_strec, \"methods_1_2_3\")\n",
    "#Evaluation.plot_recovered_seq(save_map_name_in_strec, 'methods_1_2_r', '(rumsey)')\n",
    "Evaluation.plot_recovered_seq(save_map_name_in_strec, 'methods_1_2_3a', '(alt)')"
   ]
  },
  {
   "cell_type": "code",
   "execution_count": 34,
   "metadata": {},
   "outputs": [],
   "source": [
    "# Save final results into a json file\n",
    "spotter_labels_full = ExtractHandling.load_processed_labels(save_map_name_in_strec, \"methods_1_2_3\")\n",
    "polygon_list = spotter_labels_full['label_polygons'].tolist()\n",
    "text_list = spotter_labels_full['annotation'].tolist()\n",
    "\n",
    "polygons_json = []\n",
    "for poly, text in zip(polygon_list, text_list):\n",
    "    dict = {'polygon_x': [], 'polygon_y': [], 'text': text}\n",
    "    if isinstance(poly, sh.geometry.polygon.Polygon):\n",
    "        dict['polygon_x'] = list(poly.exterior.coords.xy[0])\n",
    "        dict['polygon_y'] = list(poly.exterior.coords.xy[1])\n",
    "            \n",
    "    elif isinstance(poly, sh.geometry.multipolygon.MultiPolygon):\n",
    "        for p in poly.geoms: # kaede added .geoms - package version differences\n",
    "            polygon_x = p.exterior.coords.xy[0]\n",
    "            polygon_y = p.exterior.coords.xy[1]\n",
    "\n",
    "            for x, y in zip(polygon_x, polygon_y):\n",
    "                dict['polygon_x'].append(x)\n",
    "                dict['polygon_y'].append(y)\n",
    "\n",
    "    polygons_json.append(dict)\n",
    "\n",
    "with open(f'processed/strec/{save_map_name_in_strec}/final.json', 'w') as f:\n",
    "    json.dump(polygons_json, f)"
   ]
  }
 ],
 "metadata": {
  "kernelspec": {
   "display_name": "Python 3 (ipykernel)",
   "language": "python",
   "name": "python3"
  },
  "language_info": {
   "codemirror_mode": {
    "name": "ipython",
    "version": 3
   },
   "file_extension": ".py",
   "mimetype": "text/x-python",
   "name": "python",
   "nbconvert_exporter": "python",
   "pygments_lexer": "ipython3",
   "version": "3.8.18"
  },
  "varInspector": {
   "cols": {
    "lenName": 16,
    "lenType": 16,
    "lenVar": 40
   },
   "kernels_config": {
    "python": {
     "delete_cmd_postfix": "",
     "delete_cmd_prefix": "del ",
     "library": "var_list.py",
     "varRefreshCmd": "print(var_dic_list())"
    },
    "r": {
     "delete_cmd_postfix": ") ",
     "delete_cmd_prefix": "rm(",
     "library": "var_list.r",
     "varRefreshCmd": "cat(var_dic_list()) "
    }
   },
   "types_to_exclude": [
    "module",
    "function",
    "builtin_function_or_method",
    "instance",
    "_Feature"
   ],
   "window_display": false
  }
 },
 "nbformat": 4,
 "nbformat_minor": 4
}
