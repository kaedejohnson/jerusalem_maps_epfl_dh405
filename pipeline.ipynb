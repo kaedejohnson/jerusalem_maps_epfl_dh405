{
 "cells": [
  {
   "cell_type": "markdown",
   "metadata": {},
   "source": [
    "# 0: Import packages"
   ]
  },
  {
   "cell_type": "code",
   "execution_count": null,
   "metadata": {},
   "outputs": [],
   "source": [
    "from PIL import Image, ImageFile #pip install Pillow==9.4.0\n",
    "import sys\n",
    "import os\n",
    "import numpy as np\n",
    "import logging\n",
    "import glob\n",
    "import subprocess\n",
    "import json\n",
    "import pandas as pd\n",
    "\n",
    "from ImageCrop import ImagePreprocessor\n",
    "from SpotterWrapper import Spotter, PolygonVisualizer\n",
    "from IPython.display import display\n",
    "from shapely.geometry import Polygon\n",
    "\n",
    "logging.basicConfig(level=logging.INFO)\n",
    "Image.MAX_IMAGE_PIXELS=None\n",
    "ImageFile.LOAD_TRUNCATED_IMAGES = True\n"
   ]
  },
  {
   "cell_type": "markdown",
   "metadata": {},
   "source": [
    "# 1: Specify filepaths"
   ]
  },
  {
   "cell_type": "code",
   "execution_count": null,
   "metadata": {},
   "outputs": [],
   "source": [
    "# Name folders for raw data and processed data\n",
    "map_data_topfolder = 'raw_maps_20231024'\n",
    "map_strec_topfolder = 'processed/strec'\n",
    "\n",
    "for fp in [map_strec_topfolder]:\n",
    "    if not os.path.isdir(fp):\n",
    "        os.makedirs(fp)\n",
    "\n",
    "# IMPORTANT! Locate spotter directory and detectron weights\n",
    "git_clone_location = 'C:/repo/'\n",
    "spotter_directory = git_clone_location + 'mapkurator-spotter/spotter-v2'\n",
    "model_weights = git_clone_location + 'detectron2-master/detectron2/checkpoint/model_v2_en.pth'\n",
    "spotter_config = spotter_directory + '/configs/PALEJUN/Finetune/Rumsey_Polygon_Finetune.yaml'"
   ]
  },
  {
   "cell_type": "markdown",
   "metadata": {},
   "source": [
    "# 2: Crop all jpeg maps in (user defined) map_data_topfolder"
   ]
  },
  {
   "cell_type": "code",
   "execution_count": null,
   "metadata": {},
   "outputs": [],
   "source": [
    "def pyramid_scan(img_path, output_dir, save_each_layer=False):\n",
    "    image = Image.open(img_path)\n",
    "    image_preprocessor = ImagePreprocessor(image, overlapping_tolerance=0.3, num_layers=5, min_patch_resolution=512, max_patch_resolution=4096)\n",
    "    image_preprocessor.process()\n",
    "    print(\"preprocessing done\")\n",
    "    spotter = Spotter(spotter_config, model_weights, confidence_thresh=0.7, draw_thresh=0.85)\n",
    "    all_layer_results = []\n",
    "\n",
    "    base_image_batch, base_offset_xs, base_offset_ys = image_preprocessor.get_image_patches(0)\n",
    "    vis = PolygonVisualizer()\n",
    "    vis.canvas_from_patches(base_image_batch, base_offset_xs, base_offset_ys)\n",
    "\n",
    "    for i in range(image_preprocessor.num_layers):\n",
    "        # If you want to save for each layer, uncomment the following line\n",
    "        # image_preprocessor.save_patches(os.path.join(output_dir, f'layer_{i}_patches'), layer=i)\n",
    "\n",
    "        image_batch, offset_xs, offset_ys = image_preprocessor.get_image_patches(i)\n",
    "        spotter.load_batch(image_batch, offset_xs, offset_ys)\n",
    "        results = spotter.inference_batch()\n",
    "        all_layer_results.extend(results)\n",
    "\n",
    "        #all_layer_offset_xs.extend(offset_xs)\n",
    "        #all_layer_offset_ys.extend(offset_ys)\n",
    "\n",
    "        if save_each_layer == True:\n",
    "            vis.draw(results).save(os.path.join(output_dir, f'combined_tagged_{i}.png'))\n",
    "            vis.save_json(results, os.path.join(output_dir, f'combined_tagged_{i}.json'))\n",
    "        else:\n",
    "            pass\n",
    "\n",
    "    vis.draw(all_layer_results).save(os.path.join(output_dir, f'combined_tagged_all_layers.png'))\n",
    "    vis.save_json(all_layer_results, os.path.join(output_dir, f'combined_tagged_all_layers.json'))\n",
    "\n",
    "# Run crop on all maps\n",
    "for map_data_subfolder in next(os.walk(map_data_topfolder))[1]:\n",
    "    jpeg_list = glob.glob(map_data_topfolder + '/' + map_data_subfolder + '/*.jpeg')\n",
    "    if len(jpeg_list) != 1:\n",
    "        print(map_data_subfolder + \" failed. Please ensure there is exactly 1 file with extension .jpeg in the folder.\")\n",
    "    else:\n",
    "        map_image = jpeg_list[0].split(\"\\\\\")[1]\n",
    "        if map_data_subfolder in ['1846_vandevelde', '1874_saunders', '1845_kiepert']: # '1858_vandevelde', '1874_saunders', '1845_kiepert']: #,,]: #'1858_vandevelde', '1847_tobler', '1845_kiepert'\n",
    "            img_path = map_data_topfolder + '/' + map_data_subfolder + \"/\" + map_image\n",
    "            map_name = os.path.basename(img_path).split('.')[0] # get the map name without extension\n",
    "            output_dir = os.path.join(map_strec_topfolder, map_name)\n",
    "            if not os.path.isdir(output_dir):\n",
    "                os.makedirs(output_dir)\n",
    "            pyramid_scan(img_path, output_dir, save_each_layer=False)\n",
    "            logging.info('Done cropping %s' %img_path )"
   ]
  },
  {
   "cell_type": "markdown",
   "metadata": {},
   "source": [
    "# 3: Label Combination"
   ]
  },
  {
   "cell_type": "code",
   "execution_count": 1,
   "metadata": {},
   "outputs": [
    {
     "name": "stdout",
     "output_type": "stream",
     "text": [
      "Using device: cuda\n",
      "Using device: cuda\n",
      "Using device: cuda\n",
      "Using device: cuda\n"
     ]
    }
   ],
   "source": [
    "from PIL import Image, ImageFile\n",
    "import json \n",
    "import pandas as pd\n",
    "from collections import Counter\n",
    "from shapely.geometry import Polygon, MultiPolygon\n",
    "from itertools import combinations\n",
    "\n",
    "import numpy as np\n",
    "import importlib\n",
    "import Clustering\n",
    "import TextRectify\n",
    "import TextAmalgamate\n",
    "import ExtractHandling\n",
    "import json\n",
    "import pickle\n",
    "import SpotterWrapper\n",
    "import Grouping\n",
    "import BezierSplineMetric\n",
    "import FontSimilarity\n",
    "import SequenceRecovery\n",
    "import SubwordDeduplication as sd\n",
    "import NestedWordFlattening as nwf\n",
    "importlib.reload(SpotterWrapper)\n",
    "importlib.reload(Grouping)\n",
    "importlib.reload(Clustering)\n",
    "importlib.reload(TextRectify)\n",
    "importlib.reload(TextAmalgamate)\n",
    "importlib.reload(ExtractHandling)\n",
    "importlib.reload(BezierSplineMetric)\n",
    "importlib.reload(FontSimilarity)\n",
    "importlib.reload(SequenceRecovery)\n",
    "\n",
    "map_name_in_strec = 'vandevelde_1846' # 'kiepert_1845', 'saunders_1874', 'vandevelde_1846'"
   ]
  },
  {
   "cell_type": "markdown",
   "metadata": {},
   "source": [
    "## 3.1 Subword Deduplication"
   ]
  },
  {
   "cell_type": "code",
   "execution_count": 2,
   "metadata": {},
   "outputs": [
    {
     "name": "stdout",
     "output_type": "stream",
     "text": [
      "971 polygons kept.\n"
     ]
    }
   ],
   "source": [
    "sd.subword_deduplication(map_name_in_strec, do_cluster_pre_merge=True)"
   ]
  },
  {
   "cell_type": "markdown",
   "metadata": {},
   "source": [
    "## 3.2 Nested Word Flattening"
   ]
  },
  {
   "cell_type": "code",
   "execution_count": 3,
   "metadata": {},
   "outputs": [],
   "source": [
    "def testing_vis(df, map_name_in_strec, suffix):\n",
    "    polygons = [el[0] for el in df['labels']]\n",
    "    texts = [el[1] for el in df['labels']]\n",
    "    vis = SpotterWrapper.PolygonVisualizer()\n",
    "    canvas = Image.open(f'processed/strec/{map_name_in_strec}/raw.jpeg')\n",
    "    vis.canvas_from_image(canvas)\n",
    "    vis.draw_poly(polygons, texts, PCA_feature_list=None, BSplines=None, random_color=True)\n",
    "    vis.save(f'processed/strec/{map_name_in_strec}/testing_{suffix}.jpeg')"
   ]
  },
  {
   "cell_type": "code",
   "execution_count": 14,
   "metadata": {},
   "outputs": [
    {
     "name": "stdout",
     "output_type": "stream",
     "text": [
      "Started NWF with 971 labels.\n",
      "Retained 865.\n"
     ]
    }
   ],
   "source": [
    "# Amalgamation stage - assumes there exists \"combined_tagged_all_layers_rectified_premerge.json\" in map_name_in_strec processed folder.\n",
    "df = ExtractHandling.prepare_labels_for_amalgamation(map_name_in_strec)\n",
    "#df_orig = TextAmalgamate.amalgamate_labels_wrapper(df, 0.75, .5)\n",
    "df_new = pd.DataFrame({\"labels\": nwf.nwf_wrapper(df['labels'].tolist(), 0.75, 0.5)})\n",
    "\n",
    "# Save amalgamated labels\n",
    "with open(f'processed/strec/{map_name_in_strec}/deduplicated_flattened_labels.pickle', 'wb') as handle:\n",
    "    pickle.dump(df_new, handle, protocol=pickle.HIGHEST_PROTOCOL)\n",
    "\n",
    "# Save visualization\n",
    "testing_vis(df_new, map_name_in_strec, \"orig_nwf\")"
   ]
  },
  {
   "cell_type": "markdown",
   "metadata": {},
   "source": [
    "## 3.3 Multi-Word Sequence Recovery"
   ]
  },
  {
   "cell_type": "markdown",
   "metadata": {},
   "source": [
    "### 3.3.1 Prepare by calculating spline and font metrics"
   ]
  },
  {
   "cell_type": "code",
   "execution_count": 18,
   "metadata": {},
   "outputs": [],
   "source": [
    "df = pickle.load(open('processed/strec/' + map_name_in_strec + '/deduplicated_flattened_labels.pickle', 'rb'))\n",
    "df['polygons'] = df['labels'].apply(lambda x: x[0])\n",
    "df['texts'] = df['labels'].apply(lambda x: x[1])\n",
    "\n",
    "# Uncomment to draw splines later\n",
    "## BezierSplineMetric.draw_splines(map_name_in_strec, polygons, texts, PCA_features, all_splines)\n",
    "\n",
    "# reset index so list-based operations match df index\n",
    "df = df.reset_index(drop=True).copy()\n",
    "\n",
    "# pca for principal directions\n",
    "df['PCA_features'] = Grouping.calc_PCA_feats(df['polygons'], do_separation=True, enhance_coords=True)\n",
    "\n",
    "# find neighbors for spline and font metric consideration\n",
    "df = BezierSplineMetric.calc_neighbours(df, radius_multiplier = 40)\n",
    "\n",
    "# calculate spline metric between identified neighbors\n",
    "df = BezierSplineMetric.spline_metric(df)\n",
    "\n",
    "# calculate font metric between identified neighbors - long due to need to work with images\n",
    "df = FontSimilarity.calc_font_similarities(df, map_name_in_strec)\n",
    "\n"
   ]
  },
  {
   "cell_type": "code",
   "execution_count": 3,
   "metadata": {},
   "outputs": [
    {
     "name": "stdout",
     "output_type": "stream",
     "text": [
      "2642\n"
     ]
    },
    {
     "data": {
      "text/html": [
       "<div>\n",
       "<style scoped>\n",
       "    .dataframe tbody tr th:only-of-type {\n",
       "        vertical-align: middle;\n",
       "    }\n",
       "\n",
       "    .dataframe tbody tr th {\n",
       "        vertical-align: top;\n",
       "    }\n",
       "\n",
       "    .dataframe thead th {\n",
       "        text-align: right;\n",
       "    }\n",
       "</style>\n",
       "<table border=\"1\" class=\"dataframe\">\n",
       "  <thead>\n",
       "    <tr style=\"text-align: right;\">\n",
       "      <th></th>\n",
       "      <th>labels</th>\n",
       "      <th>polygons</th>\n",
       "      <th>texts</th>\n",
       "      <th>PCA_features</th>\n",
       "      <th>neighbours</th>\n",
       "      <th>all_splines</th>\n",
       "      <th>bezier_scores</th>\n",
       "      <th>font_scores</th>\n",
       "      <th>anchors</th>\n",
       "      <th>pts</th>\n",
       "      <th>width</th>\n",
       "    </tr>\n",
       "  </thead>\n",
       "  <tbody>\n",
       "    <tr>\n",
       "      <th>2637</th>\n",
       "      <td>(POLYGON ((1662.128372594041 4680.144339406972...</td>\n",
       "      <td>POLYGON ((1662.128372594041 4680.144339406972,...</td>\n",
       "      <td>cemetery</td>\n",
       "      <td>[{'Centroid': [1853.0904716066843, 4645.117697...</td>\n",
       "      <td>[0, 4, 16, 138, 139, 140, 141, 218, 219, 220, ...</td>\n",
       "      <td>[[&lt;BezierSpline.BezierSpline object at 0x00000...</td>\n",
       "      <td>{0: 30.822943028862205, 4: 264.3317853986218, ...</td>\n",
       "      <td>{0: 0.18992674350738525, 4: 0.7601739168167114...</td>\n",
       "      <td>[[2133.4106445312, 4674.4702148438], [1574.038...</td>\n",
       "      <td>[[1662.1283725940414, 4680.144339406972], [173...</td>\n",
       "      <td>44.043949</td>\n",
       "    </tr>\n",
       "    <tr>\n",
       "      <th>2638</th>\n",
       "      <td>(POLYGON ((12551.57392307192 5795.25631688954,...</td>\n",
       "      <td>POLYGON ((12551.57392307192 5795.25631688954, ...</td>\n",
       "      <td>mount</td>\n",
       "      <td>[{'Centroid': [12608.07974887038, 5705.3489706...</td>\n",
       "      <td>[82, 93, 1431, 1434, 1437, 1443, 1444, 1484, 1...</td>\n",
       "      <td>[[&lt;BezierSpline.BezierSpline object at 0x00000...</td>\n",
       "      <td>{82: 9.205920957210669, 93: 20.468616961880453...</td>\n",
       "      <td>{82: 0.003928892780095339, 93: 0.0083818882703...</td>\n",
       "      <td>[[12562.2255859375, 6043.5888671875], [12669.6...</td>\n",
       "      <td>[[12551.573923071925, 5795.25631688954], [1254...</td>\n",
       "      <td>71.212148</td>\n",
       "    </tr>\n",
       "    <tr>\n",
       "      <th>2639</th>\n",
       "      <td>(POLYGON ((9495.587890625 4860.0385742188, 949...</td>\n",
       "      <td>POLYGON ((9495.587890625 4860.0385742188, 9494...</td>\n",
       "      <td>cherif</td>\n",
       "      <td>[{'Centroid': [9298.907678965747, 4922.5636330...</td>\n",
       "      <td>[49, 52, 56, 60, 68, 107, 108, 110, 1036, 1037...</td>\n",
       "      <td>[[&lt;BezierSpline.BezierSpline object at 0x00000...</td>\n",
       "      <td>{49: 131.29150193111417, 52: 203.8005959646909...</td>\n",
       "      <td>{49: 0.9500868916511536, 52: 0.094199948012828...</td>\n",
       "      <td>[[8935.1708984375, 5009.791015625], [9668.7324...</td>\n",
       "      <td>[[9495.587890625, 4860.0385742188], [9494.0269...</td>\n",
       "      <td>50.365238</td>\n",
       "    </tr>\n",
       "    <tr>\n",
       "      <th>2640</th>\n",
       "      <td>(POLYGON ((13470.623046875 3490.3542480469, 13...</td>\n",
       "      <td>POLYGON ((13470.623046875 3490.3542480469, 134...</td>\n",
       "      <td>olivet</td>\n",
       "      <td>[{'Centroid': [13482.704570496533, 3605.926018...</td>\n",
       "      <td>[83, 86, 90, 92, 97, 103, 106, 1474, 1475, 147...</td>\n",
       "      <td>[[&lt;BezierSpline.BezierSpline object at 0x00000...</td>\n",
       "      <td>{83: 170.55692174154234, 86: 110.8353731069753...</td>\n",
       "      <td>{83: 0.00014008043217472732, 86: 5.39133106940...</td>\n",
       "      <td>[[13391.3642578125, 3950.640625], [13602.86718...</td>\n",
       "      <td>[[13470.623046875, 3490.3542480469], [13469.83...</td>\n",
       "      <td>59.589347</td>\n",
       "    </tr>\n",
       "    <tr>\n",
       "      <th>2641</th>\n",
       "      <td>(POLYGON ((12969.6748046875 4489.1704101562, 1...</td>\n",
       "      <td>POLYGON ((12969.6748046875 4489.1704101562, 12...</td>\n",
       "      <td>ofolives</td>\n",
       "      <td>[{'Centroid': [12853.637864063061, 4820.038557...</td>\n",
       "      <td>[82, 83, 88, 90, 92, 93, 97, 103, 106, 1423, 1...</td>\n",
       "      <td>[[&lt;BezierSpline.BezierSpline object at 0x00000...</td>\n",
       "      <td>{82: 199.31832857733772, 83: 12.88946207595418...</td>\n",
       "      <td>{82: 0.004663907457143068, 83: 0.0003163376532...</td>\n",
       "      <td>[[12611.732421875, 5259.7861328125], [13038.19...</td>\n",
       "      <td>[[12969.6748046875, 4489.1704101562], [12968.5...</td>\n",
       "      <td>74.407070</td>\n",
       "    </tr>\n",
       "  </tbody>\n",
       "</table>\n",
       "</div>"
      ],
      "text/plain": [
       "                                                 labels  \\\n",
       "2637  (POLYGON ((1662.128372594041 4680.144339406972...   \n",
       "2638  (POLYGON ((12551.57392307192 5795.25631688954,...   \n",
       "2639  (POLYGON ((9495.587890625 4860.0385742188, 949...   \n",
       "2640  (POLYGON ((13470.623046875 3490.3542480469, 13...   \n",
       "2641  (POLYGON ((12969.6748046875 4489.1704101562, 1...   \n",
       "\n",
       "                                               polygons     texts  \\\n",
       "2637  POLYGON ((1662.128372594041 4680.144339406972,...  cemetery   \n",
       "2638  POLYGON ((12551.57392307192 5795.25631688954, ...     mount   \n",
       "2639  POLYGON ((9495.587890625 4860.0385742188, 9494...    cherif   \n",
       "2640  POLYGON ((13470.623046875 3490.3542480469, 134...    olivet   \n",
       "2641  POLYGON ((12969.6748046875 4489.1704101562, 12...  ofolives   \n",
       "\n",
       "                                           PCA_features  \\\n",
       "2637  [{'Centroid': [1853.0904716066843, 4645.117697...   \n",
       "2638  [{'Centroid': [12608.07974887038, 5705.3489706...   \n",
       "2639  [{'Centroid': [9298.907678965747, 4922.5636330...   \n",
       "2640  [{'Centroid': [13482.704570496533, 3605.926018...   \n",
       "2641  [{'Centroid': [12853.637864063061, 4820.038557...   \n",
       "\n",
       "                                             neighbours  \\\n",
       "2637  [0, 4, 16, 138, 139, 140, 141, 218, 219, 220, ...   \n",
       "2638  [82, 93, 1431, 1434, 1437, 1443, 1444, 1484, 1...   \n",
       "2639  [49, 52, 56, 60, 68, 107, 108, 110, 1036, 1037...   \n",
       "2640  [83, 86, 90, 92, 97, 103, 106, 1474, 1475, 147...   \n",
       "2641  [82, 83, 88, 90, 92, 93, 97, 103, 106, 1423, 1...   \n",
       "\n",
       "                                            all_splines  \\\n",
       "2637  [[<BezierSpline.BezierSpline object at 0x00000...   \n",
       "2638  [[<BezierSpline.BezierSpline object at 0x00000...   \n",
       "2639  [[<BezierSpline.BezierSpline object at 0x00000...   \n",
       "2640  [[<BezierSpline.BezierSpline object at 0x00000...   \n",
       "2641  [[<BezierSpline.BezierSpline object at 0x00000...   \n",
       "\n",
       "                                          bezier_scores  \\\n",
       "2637  {0: 30.822943028862205, 4: 264.3317853986218, ...   \n",
       "2638  {82: 9.205920957210669, 93: 20.468616961880453...   \n",
       "2639  {49: 131.29150193111417, 52: 203.8005959646909...   \n",
       "2640  {83: 170.55692174154234, 86: 110.8353731069753...   \n",
       "2641  {82: 199.31832857733772, 83: 12.88946207595418...   \n",
       "\n",
       "                                            font_scores  \\\n",
       "2637  {0: 0.18992674350738525, 4: 0.7601739168167114...   \n",
       "2638  {82: 0.003928892780095339, 93: 0.0083818882703...   \n",
       "2639  {49: 0.9500868916511536, 52: 0.094199948012828...   \n",
       "2640  {83: 0.00014008043217472732, 86: 5.39133106940...   \n",
       "2641  {82: 0.004663907457143068, 83: 0.0003163376532...   \n",
       "\n",
       "                                                anchors  \\\n",
       "2637  [[2133.4106445312, 4674.4702148438], [1574.038...   \n",
       "2638  [[12562.2255859375, 6043.5888671875], [12669.6...   \n",
       "2639  [[8935.1708984375, 5009.791015625], [9668.7324...   \n",
       "2640  [[13391.3642578125, 3950.640625], [13602.86718...   \n",
       "2641  [[12611.732421875, 5259.7861328125], [13038.19...   \n",
       "\n",
       "                                                    pts      width  \n",
       "2637  [[1662.1283725940414, 4680.144339406972], [173...  44.043949  \n",
       "2638  [[12551.573923071925, 5795.25631688954], [1254...  71.212148  \n",
       "2639  [[9495.587890625, 4860.0385742188], [9494.0269...  50.365238  \n",
       "2640  [[13470.623046875, 3490.3542480469], [13469.83...  59.589347  \n",
       "2641  [[12969.6748046875, 4489.1704101562], [12968.5...  74.407070  "
      ]
     },
     "execution_count": 3,
     "metadata": {},
     "output_type": "execute_result"
    }
   ],
   "source": [
    "import RumseyMetric\n",
    "df = pickle.load(open(f'processed/strec/{map_name_in_strec}/seq_rec_prepared_labels.pickle', 'rb'))\n",
    "df = RumseyMetric.calc_rumsey_metric(df)\n",
    "print(len(df))\n",
    "df.tail(5)\n"
   ]
  },
  {
   "cell_type": "code",
   "execution_count": 4,
   "metadata": {},
   "outputs": [],
   "source": [
    "with open(f'processed/strec/{map_name_in_strec}/seq_rec_prepared_labels.pickle', 'wb') as handle:\n",
    "    pickle.dump(df, handle, protocol=pickle.HIGHEST_PROTOCOL)"
   ]
  },
  {
   "cell_type": "code",
   "execution_count": null,
   "metadata": {},
   "outputs": [],
   "source": [
    "# Optional - draw splines\n",
    "#df = pickle.load(open(f'processed/strec/{map_name_in_strec}/seq_rec_prepared_labels.pickle', 'rb'))\n",
    "#BezierSplineMetric.draw_splines(map_name_in_strec, df['polygons'].tolist(), df['texts'].tolist(), df['PCA_features'].tolist(), df['all_splines'].explode().dropna().tolist(), spline_metric_threshold = 0.01)"
   ]
  },
  {
   "cell_type": "markdown",
   "metadata": {},
   "source": [
    "### 3.3.2 Iterative Sequence Recovery"
   ]
  },
  {
   "cell_type": "code",
   "execution_count": 5,
   "metadata": {},
   "outputs": [],
   "source": [
    "df = pickle.load(open(f'processed/strec/{map_name_in_strec}/seq_rec_prepared_labels.pickle', 'rb'))\n",
    "# Drop PCA_features - no longer needed, makes me feel good to discard stuff i don't need\n",
    "df.drop('PCA_features', axis=1, inplace=True)\n",
    "df.drop('all_splines', axis=1, inplace=True)"
   ]
  },
  {
   "cell_type": "markdown",
   "metadata": {},
   "source": [
    "#### A. Rumsey's Method"
   ]
  },
  {
   "cell_type": "code",
   "execution_count": 6,
   "metadata": {},
   "outputs": [
    {
     "name": "stdout",
     "output_type": "stream",
     "text": [
      "2642 labels.\n",
      "1751 labels.\n",
      "Sequence Recovery completed with 1751 labels.\n"
     ]
    }
   ],
   "source": [
    "df = SequenceRecovery.sl_sequence_recovery_wrapper(df, use_rumsey_metric=True)\n",
    "new_texts = []\n",
    "new_labels = []\n",
    "for index, row in df.iterrows():\n",
    "    sorted_text = sorted(row['text_list'], key=lambda x: x[0][0])\n",
    "    new_texts.append(\" \".join([_text[1] for _text in sorted_text]))\n",
    "    new_labels.append((row['labels'][0], row['texts']))\n",
    "\n",
    "df['labels'] = new_labels\n",
    "df['texts'] = new_texts"
   ]
  },
  {
   "cell_type": "code",
   "execution_count": 30,
   "metadata": {},
   "outputs": [
    {
     "data": {
      "text/plain": [
       "'cl.tur et-tur'"
      ]
     },
     "execution_count": 30,
     "metadata": {},
     "output_type": "execute_result"
    }
   ],
   "source": [
    "df = pickle.load(open(f'processed/strec/{map_name_in_strec}/fully_processed_labels_rumsey.pickle', 'rb'))\n",
    "new_texts = []\n",
    "new_labels = []\n",
    "for index, row in df.iterrows():\n",
    "    sorted_text = sorted(row['text_list'], key=lambda x: x[0][0])\n",
    "    new_texts.append(\" \".join([_text[1] for _text in sorted_text]))\n",
    "    new_labels.append((row['labels'][0], row['texts']))\n",
    "\n",
    "df['labels'] = new_labels\n",
    "df['texts'] = new_texts\n",
    "with open(f'processed/strec/{map_name_in_strec}/fully_processed_labels_rumsey.pickle', 'wb') as handle:\n",
    "    pickle.dump(df, handle, protocol=pickle.HIGHEST_PROTOCOL)\n",
    "df.tail(1)['labels'].tolist()[0][1]"
   ]
  },
  {
   "cell_type": "markdown",
   "metadata": {},
   "source": [
    "#### B. Our Method"
   ]
  },
  {
   "cell_type": "code",
   "execution_count": null,
   "metadata": {},
   "outputs": [],
   "source": [
    "df = SequenceRecovery.sl_sequence_recovery_wrapper(df, font_threshold=.5, bezier_threshold=1.5, use_rumsey_metric=False)\n",
    "new_texts = []\n",
    "new_labels = []\n",
    "for index, row in df.iterrows():\n",
    "    sorted_text = sorted(row['text_list'], key=lambda x: x[0][0])\n",
    "    new_texts.append(\" \".join([_text[1] for _text in sorted_text]))\n",
    "    new_labels.append((row['labels'][0], row['texts']))\n",
    "\n",
    "df['labels'] = new_labels\n",
    "df['texts'] = new_texts\n",
    "\n",
    "with open(f'processed/strec/{map_name_in_strec}/fully_processed_labels.pickle', 'wb') as handle:\n",
    "    pickle.dump(df, handle, protocol=pickle.HIGHEST_PROTOCOL)"
   ]
  },
  {
   "cell_type": "markdown",
   "metadata": {},
   "source": [
    "# 4: Evaluation"
   ]
  },
  {
   "cell_type": "code",
   "execution_count": 7,
   "metadata": {},
   "outputs": [],
   "source": [
    "from PIL import Image, ImageFile\n",
    "import pandas as pd\n",
    "from itertools import combinations\n",
    "import scipy\n",
    "import numpy as np\n",
    "import importlib \n",
    "\n",
    "import Evaluation\n",
    "importlib.reload(Evaluation)\n",
    "%load_ext autoreload"
   ]
  },
  {
   "cell_type": "markdown",
   "metadata": {},
   "source": [
    "## 4.1: Isolate crops to be used for evaluation"
   ]
  },
  {
   "cell_type": "code",
   "execution_count": null,
   "metadata": {},
   "outputs": [],
   "source": [
    "\n",
    "def visualize_crop(map_name_in_strec, raw_or_spotter, left_x, right_x, top_y, bottom_y):\n",
    "    if raw_or_spotter == \"raw\":\n",
    "        map_img = Image.open('processed/strec/' + map_name_in_strec + '/raw.jpeg') \n",
    "    elif raw_or_spotter == \"spotter_0\":\n",
    "        map_img = Image.open('processed/strec/' + map_name_in_strec + '/combined_tagged_0.png')\n",
    "    elif raw_or_spotter == \"spotter_1\":\n",
    "        map_img = Image.open('processed/strec/' + map_name_in_strec + '/combined_tagged_1.png')\n",
    "    elif raw_or_spotter == \"spotter_2\":\n",
    "        map_img = Image.open('processed/strec/' + map_name_in_strec + '/combined_tagged_2.png')\n",
    "    elif raw_or_spotter == \"all\":\n",
    "        map_img = Image.open('processed/strec/' + map_name_in_strec + '/combined_tagged_all_layers.png')\n",
    "    elif raw_or_spotter == \"rectified\":\n",
    "        map_img = Image.open('processed/strec/' + map_name_in_strec + '/combined_tagged_all_layers_rectified.png')\n",
    "    width, height = map_img.size\n",
    "    print(\"full map is \" + str(width) + \" pixels wide by \" + str(height) + \" pixels high.\\n displaying crop:\")\n",
    "    display(map_img.crop((left_x, top_y, right_x, bottom_y, )))\n",
    "\n",
    "left_x = 2475\n",
    "right_x = 3550\n",
    "top_y = 4820\n",
    "bottom_y = 5850\n",
    "\n",
    "#visualize_crop(\"kiepert_1845\", \"all\", left_x, right_x, top_y, bottom_y)"
   ]
  },
  {
   "cell_type": "markdown",
   "metadata": {},
   "source": [
    "## 4.2 Precision and Recall: 1:1 Matching on Geometry, then IoU"
   ]
  },
  {
   "cell_type": "code",
   "execution_count": 31,
   "metadata": {},
   "outputs": [
    {
     "name": "stdout",
     "output_type": "stream",
     "text": [
      "\n",
      "kiepert baseline (gt = components)\n",
      "\n",
      "Avg of Geographic Precision: 0.11770623313277098\n",
      "Avg of Text Precision: 0.10305084716336407\n",
      "Avg of Geographic Recall: 0.6007076725396587\n",
      "Avg of Text Recall: 0.525914668281996\n",
      "\n",
      "kiepert pyramid - subword dedup, nested word flattening (gt = components)\n",
      "\n",
      "Avg of Geographic Precision: 0.23228497443998528\n",
      "Avg of Text Precision: 0.21090417116489418\n",
      "Avg of Geographic Recall: 0.5339884469884719\n",
      "Avg of Text Recall: 0.4848371750917108\n",
      "\n",
      "kiepert pyramid - subword dedup, nested word flattening, Rumsey's sequence recovery (gt = components)\n",
      "\n",
      "Avg of Geographic Precision: 0.298235860223981\n",
      "Avg of Text Precision: 0.2642550463017921\n",
      "Avg of Geographic Recall: 0.4216438023856283\n",
      "Avg of Text Recall: 0.37360196201287843\n",
      "\n",
      "kiepert pyramid - subword dedup, nested word flattening, Our's sequence recovery (gt = components)\n",
      "\n",
      "Avg of Geographic Precision: 0.4767661519220538\n",
      "Avg of Text Precision: 0.501861487037536\n",
      "Avg of Geographic Recall: 0.6082878490039997\n",
      "Avg of Text Recall: 0.6403060351858217\n",
      "\n",
      "vandevelde baseline (gt = components)\n",
      "\n",
      "Avg of Geographic Precision: 0.10768564771776376\n",
      "Avg of Text Precision: 0.11568854680573216\n",
      "Avg of Geographic Recall: 0.5109340306608792\n",
      "Avg of Text Recall: 0.548905232716559\n",
      "\n",
      "vandevelde pyramid - subword dedup, nested word flattening (gt = components)\n",
      "\n",
      "Avg of Geographic Precision: 0.2921573874252001\n",
      "Avg of Text Precision: 0.2869855380644992\n",
      "Avg of Geographic Recall: 0.5532342017200598\n",
      "Avg of Text Recall: 0.5434406997391581\n",
      "\n",
      "vandevelde pyramid - subword dedup, nested word flattening, Rumsey's sequence recovery (gt = components)\n",
      "\n",
      "Avg of Geographic Precision: 0.38287982314193464\n",
      "Avg of Text Precision: 0.36441597255358676\n",
      "Avg of Geographic Recall: 0.48063637373136475\n",
      "Avg of Text Recall: 0.45745834852471534\n",
      "\n",
      "vandevelde pyramid - subword dedup, nested word flattening, Our's sequence recovery (gt = components)\n",
      "\n",
      "Avg of Geographic Precision: 0.537909329354797\n",
      "Avg of Text Precision: 0.5857931200063767\n",
      "Avg of Geographic Recall: 0.6351908038125794\n",
      "Avg of Text Recall: 0.6917344289437002\n",
      "\n",
      "saunders baseline (gt = components)\n",
      "\n",
      "Avg of Geographic Precision: 0.10692526759221738\n",
      "Avg of Text Precision: 0.09822957271770835\n",
      "Avg of Geographic Recall: 0.5251917555264795\n",
      "Avg of Text Recall: 0.48248054834874393\n",
      "\n",
      "saunders pyramid - subword dedup, nested word flattening (gt = components)\n",
      "\n",
      "Avg of Geographic Precision: 0.2581745272674626\n",
      "Avg of Text Precision: 0.23570070060554776\n",
      "Avg of Geographic Recall: 0.5315357914330112\n",
      "Avg of Text Recall: 0.4852661483055395\n",
      "\n",
      "saunders pyramid - subword dedup, nested word flattening, Rumsey's sequence recovery (gt = components)\n",
      "\n",
      "Avg of Geographic Precision: 0.35177136748552323\n",
      "Avg of Text Precision: 0.2869544764650307\n",
      "Avg of Geographic Recall: 0.42160833014809035\n",
      "Avg of Text Recall: 0.34392337988088234\n",
      "\n",
      "saunders pyramid - subword dedup, nested word flattening, Our's sequence recovery (gt = components)\n",
      "\n",
      "Avg of Geographic Precision: 0.5270308563826411\n",
      "Avg of Text Precision: 0.4950248814300967\n",
      "Avg of Geographic Recall: 0.461151999334811\n",
      "Avg of Text Recall: 0.4331467712513346\n"
     ]
    }
   ],
   "source": [
    "kiepert_gt_patches = [[1750, 3750, 4775, 6200], [2250, 4050, 6050, 7500]] #,[2475, 3550, 4820, 5850]]\n",
    "saunders_gt_patches = [[2350, 3850, 1750, 3250], [6450, 7500, 2200, 3250], [5400, 6400, 4500, 5500], [7650, 8650, 5400, 6400], [7650, 8650, 3150, 4150]] #\n",
    "vandevelde_gt_patches = [[2850, 5250, 1450, 3850]]\n",
    "\n",
    "# Gimme them numbers :)\n",
    "\n",
    "kname = \"kiepert_1845\"\n",
    "vname = \"vandevelde_1846\"\n",
    "sname = \"saunders_1874\"\n",
    "\n",
    "multiline_handling = \"components\" # \"largest\" for multiline gt\n",
    "\n",
    "print(\"\\nkiepert baseline (gt = \" + multiline_handling + \")\\n\")\n",
    "kbase_geo_prec, kbase_text_prec, kbase_geo_rec, kbase_text_rec, kbase_IoU_pairs, kbase_num_detected, kbase_num_gt = Evaluation.prec_rec(kname, multiline_handling, kiepert_gt_patches, \"methods_0\")\n",
    "print(\"\\nkiepert pyramid - subword dedup, nested word flattening (gt = \" + multiline_handling + \")\\n\")\n",
    "k12_geo_prec, k12_text_prec, k12_geo_rec, k12_text_rec, k12_IoU_pairs, k12_num_detected, k12_num_gt = Evaluation.prec_rec(kname, multiline_handling, kiepert_gt_patches, \"methods_1_2\")\n",
    "print(\"\\nkiepert pyramid - subword dedup, nested word flattening, Rumsey's sequence recovery (gt = \" + multiline_handling + \")\\n\")\n",
    "k123_geo_prec, k123_text_prec, k123_geo_rec, k123_text_rec, k123_IoU_pairs, k123_num_detected, k123_num_gt = Evaluation.prec_rec(kname, multiline_handling, kiepert_gt_patches, \"methods_1_2_r\")\n",
    "print(\"\\nkiepert pyramid - subword dedup, nested word flattening, Our's sequence recovery (gt = \" + multiline_handling + \")\\n\")\n",
    "k123_geo_prec, k123_text_prec, k123_geo_rec, k123_text_rec, k123_IoU_pairs, k123_num_detected, k123_num_gt = Evaluation.prec_rec(kname, multiline_handling, kiepert_gt_patches, \"methods_1_2_3\")\n",
    "\n",
    "print(\"\\nvandevelde baseline (gt = \" + multiline_handling + \")\\n\")\n",
    "vbase_geo_prec, vbase_text_prec, vbase_geo_rec, vbase_text_rec, vbase_IoU_pairs, vbase_num_detected, vbase_num_gt = Evaluation.prec_rec(vname, multiline_handling, vandevelde_gt_patches, \"methods_0\")\n",
    "print(\"\\nvandevelde pyramid - subword dedup, nested word flattening (gt = \" + multiline_handling + \")\\n\")\n",
    "v12_geo_prec, v12_text_prec, v12_geo_rec, v12_text_rec, v12_IoU_pairs, v12_num_detected, v12_num_gt = Evaluation.prec_rec(vname, multiline_handling, vandevelde_gt_patches, \"methods_1_2\")\n",
    "print(\"\\nvandevelde pyramid - subword dedup, nested word flattening, Rumsey's sequence recovery (gt = \" + multiline_handling + \")\\n\")\n",
    "v123_geo_prec, v123_text_prec, v123_geo_rec, v123_text_rec, v123_IoU_pairs, v123_num_detected, v123_num_gt = Evaluation.prec_rec(vname, multiline_handling, vandevelde_gt_patches, \"methods_1_2_r\")\n",
    "print(\"\\nvandevelde pyramid - subword dedup, nested word flattening, Our's sequence recovery (gt = \" + multiline_handling + \")\\n\")\n",
    "v123_geo_prec, v123_text_prec, v123_geo_rec, v123_text_rec, v123_IoU_pairs, v123_num_detected, v123_num_gt = Evaluation.prec_rec(vname, multiline_handling, vandevelde_gt_patches, \"methods_1_2_3\")\n",
    "\n",
    "print(\"\\nsaunders baseline (gt = \" + multiline_handling + \")\\n\")\n",
    "sbase_geo_prec, sbase_text_prec, sbase_geo_rec, sbase_text_rec, sbase_IoU_pairs, sbase_num_detected, sbase_num_gt = Evaluation.prec_rec(sname, multiline_handling, saunders_gt_patches, \"methods_0\")\n",
    "print(\"\\nsaunders pyramid - subword dedup, nested word flattening (gt = \" + multiline_handling + \")\\n\")\n",
    "s12_geo_prec, s12_text_prec, s12_geo_rec, s12_text_rec, s12_IoU_pairs, s12_num_detected, s12_num_gt = Evaluation.prec_rec(sname, multiline_handling, saunders_gt_patches, \"methods_1_2\")\n",
    "print(\"\\nsaunders pyramid - subword dedup, nested word flattening, Rumsey's sequence recovery (gt = \" + multiline_handling + \")\\n\")\n",
    "s123_geo_prec, s123_text_prec, s123_geo_rec, s123_text_rec, s123_IoU_pairs, s123_num_detected, s123_num_gt = Evaluation.prec_rec(sname, multiline_handling, saunders_gt_patches, \"methods_1_2_r\")\n",
    "print(\"\\nsaunders pyramid - subword dedup, nested word flattening, Our's sequence recovery (gt = \" + multiline_handling + \")\\n\")\n",
    "s123_geo_prec, s123_text_prec, s123_geo_rec, s123_text_rec, s123_IoU_pairs, s123_num_detected, s123_num_gt = Evaluation.prec_rec(sname, multiline_handling, saunders_gt_patches, \"methods_1_2_3\")"
   ]
  },
  {
   "cell_type": "markdown",
   "metadata": {},
   "source": [
    "## 5: Plot and Save results"
   ]
  },
  {
   "cell_type": "code",
   "execution_count": 34,
   "metadata": {},
   "outputs": [],
   "source": [
    "import shapely as sh\n",
    "save_map_name_in_strec = 'vandevelde_1846' # 'kiepert_1845', 'saunders_1874', 'vandevelde_1846'\n",
    "\n",
    "# Plot the final image\n",
    "Evaluation.plot_recovered_seq(save_map_name_in_strec, \"methods_1_2_3\")\n",
    "Evaluation.plot_recovered_seq(save_map_name_in_strec, 'methods_1_2_r', '(rumsey)')\n",
    "\n",
    "# Save final results into a json file\n",
    "spotter_labels_full = ExtractHandling.load_processed_labels(save_map_name_in_strec, \"methods_1_2_3\")\n",
    "polygon_list = spotter_labels_full['label_polygons'].tolist()\n",
    "text_list = spotter_labels_full['annotation'].tolist()\n",
    "\n",
    "polygons_json = []\n",
    "for poly, text in zip(polygon_list, text_list):\n",
    "    dict = {'polygon_x': [], 'polygon_y': [], 'text': text}\n",
    "    if isinstance(poly, sh.geometry.polygon.Polygon):\n",
    "        dict['polygon_x'] = list(poly.exterior.coords.xy[0])\n",
    "        dict['polygon_y'] = list(poly.exterior.coords.xy[1])\n",
    "            \n",
    "    elif isinstance(poly, sh.geometry.multipolygon.MultiPolygon):\n",
    "        for p in poly.geoms: # kaede added .geoms - package version differences\n",
    "            polygon_x = p.exterior.coords.xy[0]\n",
    "            polygon_y = p.exterior.coords.xy[1]\n",
    "\n",
    "            for x, y in zip(polygon_x, polygon_y):\n",
    "                dict['polygon_x'].append(x)\n",
    "                dict['polygon_y'].append(y)\n",
    "\n",
    "    polygons_json.append(dict)\n",
    "\n",
    "with open(f'processed/strec/{save_map_name_in_strec}/final.json', 'w') as f:\n",
    "    json.dump(polygons_json, f)"
   ]
  }
 ],
 "metadata": {
  "kernelspec": {
   "display_name": "Python 3 (ipykernel)",
   "language": "python",
   "name": "python3"
  },
  "language_info": {
   "codemirror_mode": {
    "name": "ipython",
    "version": 3
   },
   "file_extension": ".py",
   "mimetype": "text/x-python",
   "name": "python",
   "nbconvert_exporter": "python",
   "pygments_lexer": "ipython3",
   "version": "3.8.18"
  },
  "varInspector": {
   "cols": {
    "lenName": 16,
    "lenType": 16,
    "lenVar": 40
   },
   "kernels_config": {
    "python": {
     "delete_cmd_postfix": "",
     "delete_cmd_prefix": "del ",
     "library": "var_list.py",
     "varRefreshCmd": "print(var_dic_list())"
    },
    "r": {
     "delete_cmd_postfix": ") ",
     "delete_cmd_prefix": "rm(",
     "library": "var_list.r",
     "varRefreshCmd": "cat(var_dic_list()) "
    }
   },
   "types_to_exclude": [
    "module",
    "function",
    "builtin_function_or_method",
    "instance",
    "_Feature"
   ],
   "window_display": false
  }
 },
 "nbformat": 4,
 "nbformat_minor": 4
}
