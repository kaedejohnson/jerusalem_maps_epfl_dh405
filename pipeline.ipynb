{
 "cells": [
  {
   "cell_type": "markdown",
   "metadata": {},
   "source": [
    "# 0: Import packages"
   ]
  },
  {
   "cell_type": "code",
   "execution_count": 3,
   "metadata": {},
   "outputs": [],
   "source": [
    "from PIL import Image, ImageFile #pip install Pillow==9.4.0\n",
    "import sys\n",
    "import os\n",
    "import numpy as np\n",
    "import logging\n",
    "import glob\n",
    "import subprocess\n",
    "\n",
    "logging.basicConfig(level=logging.INFO)\n",
    "Image.MAX_IMAGE_PIXELS=None\n",
    "ImageFile.LOAD_TRUNCATED_IMAGES = True"
   ]
  },
  {
   "cell_type": "markdown",
   "metadata": {},
   "source": [
    "# 1: Specify filepaths"
   ]
  },
  {
   "cell_type": "code",
   "execution_count": 4,
   "metadata": {},
   "outputs": [],
   "source": [
    "# Name folders for raw data and processed data\n",
    "map_data_topfolder = 'raw_maps_20231024'\n",
    "map_crops_topfolder = 'processed/crops'\n",
    "map_streg_topfolder = 'processed/streg'\n",
    "\n",
    "for fp in [map_crops_topfolder, map_streg_topfolder]:\n",
    "    if not os.path.isdir(fp):\n",
    "        os.makedirs(fp)\n",
    "\n",
    "# IMPORTANT! Locate spotter directory and detectron weights\n",
    "git_clone_location = 'C:/Users/HP/'\n",
    "spotter_directory = git_clone_location + 'mapkurator-spotter-main/spotter-v2'\n",
    "model_weights = git_clone_location + 'detectron2-main/detectron2/checkpoint/model_v2_en.pth'\n",
    "\n",
    "# For assistance, see how the data should be organized\n",
    "from IPython.display import Image as ipyim\n",
    "#ipyim(filename=\"./directory_organization.jpg\", width=400, height = 200)"
   ]
  },
  {
   "cell_type": "markdown",
   "metadata": {},
   "source": [
    "# 2: Crop all jpeg maps in (user defined) map_data_topfolder"
   ]
  },
  {
   "cell_type": "code",
   "execution_count": 14,
   "metadata": {},
   "outputs": [],
   "source": [
    "# cropped image pyramid - subcrops with edge size i are created from crops with edge size i-1\n",
    "edge_size_set = [2500, 1000, 500]\n",
    "if not all(edge_size_set[i] > edge_size_set[i+1] for i in range(len(edge_size_set)-1)):\n",
    "    print(\"Danger! Edge size set should be strictly decreasing.\")\n",
    "overlap_pct = .1"
   ]
  },
  {
   "cell_type": "code",
   "execution_count": null,
   "metadata": {},
   "outputs": [],
   "source": [
    "def crop(img_path, output_dir, edge_size_set):\n",
    "\n",
    "    map_img = Image.open(img_path) \n",
    "    width, height = map_img.size \n",
    "\n",
    "    #print(width, height, map_name)\n",
    "\n",
    "    edge_size = edge_size_set[0]\n",
    "    \n",
    "    shift_size = (1-overlap_pct) * edge_size\n",
    "\n",
    "    # pad the image to the size divisible by shift-size\n",
    "    num_tiles_w = int(np.ceil(1. * width / shift_size))\n",
    "    num_tiles_h = int(np.ceil(1. * height / shift_size))\n",
    "    enlarged_width = int(shift_size * num_tiles_w)\n",
    "    enlarged_height = int(shift_size * num_tiles_h)\n",
    "\n",
    "    enlarged_map = Image.new(mode=\"RGB\", size=(enlarged_width, enlarged_height))\n",
    "    # paste map_imge to enlarged_map\n",
    "    enlarged_map.paste(map_img) \n",
    "\n",
    "    for idx in range(0, num_tiles_h):\n",
    "        for jdx in range(0, num_tiles_w):\n",
    "            img_clip = enlarged_map.crop((jdx * shift_size, idx * shift_size,(jdx * shift_size) + edge_size, (idx * shift_size) + edge_size, ))\n",
    "            out_name_sans_jpg = 'e' + str(edge_size) + '_h' + str(idx) + '_w' + str(jdx)\n",
    "            if not os.path.isdir(os.path.join(output_dir, out_name_sans_jpg)):\n",
    "                os.makedirs(os.path.join(output_dir, out_name_sans_jpg))\n",
    "            img_path_new = os.path.join(output_dir, out_name_sans_jpg) + \"/\" + out_name_sans_jpg + '.jpg'\n",
    "            img_clip.save(img_path_new)\n",
    "            if len(edge_size_set) > 1:\n",
    "                crop(img_path_new, img_path_new.rsplit(\"/\", 1)[0], edge_size_set[1:])\n",
    "\n",
    "# Run crop on all maps\n",
    "for map_data_subfolder in next(os.walk(map_data_topfolder))[1]:\n",
    "    jpeg_list = glob.glob(map_data_topfolder + '/' + map_data_subfolder + '/*.jpeg')\n",
    "    if len(jpeg_list) != 1:\n",
    "        print(map_data_subfolder + \" failed. Please ensure there is exactly 1 file with extension .jpeg in the folder.\")\n",
    "    else:\n",
    "        map_image = jpeg_list[0].split(\"\\\\\")[1]\n",
    "        if map_data_subfolder in ['1874_saunders','1858_vandevelde','1847_tobler']:\n",
    "            img_path = map_data_topfolder + '/' + map_data_subfolder + \"/\" + map_image\n",
    "            map_name = os.path.basename(img_path).split('.')[0] # get the map name without extension\n",
    "            output_dir = os.path.join(map_crops_topfolder, map_name)\n",
    "            if not os.path.isdir(output_dir):\n",
    "                os.makedirs(output_dir)\n",
    "            crop(img_path, output_dir, edge_size_set)\n",
    "            logging.info('Done cropping %s' %img_path )"
   ]
  },
  {
   "cell_type": "markdown",
   "metadata": {},
   "source": [
    "# 3: Scan for text in all crops in (user defined) map_scan_topfolder"
   ]
  },
  {
   "cell_type": "code",
   "execution_count": 40,
   "metadata": {},
   "outputs": [],
   "source": [
    "# Set up spotter arguments\n",
    "gpu_id = 0\n",
    "spotter_model = 'spotter-v2'\n",
    "spotter_config = spotter_directory + '/configs/PALEJUN/Finetune/Base-SynthMap-Polygon.yaml'\n",
    "inference_py_loc = spotter_directory + '/tools/inference.py'\n",
    "curr_wd = os.getcwd().replace(\"\\\\\",\"/\")\n",
    "\n",
    "## Run spotter on all files in processed/crops/\n",
    "# if you remove --output_json, it will output a picture of the image with recognized text overlaid\n",
    "command = f'python {inference_py_loc} --config-file {spotter_config} --model_weights {model_weights} --output_json --inputs True --curr_wd {curr_wd} --map_crops_topfolder {map_crops_topfolder} --map_streg_topfolder {map_streg_topfolder}'\n",
    "subprocess.run(command) #, shell=True)"
   ]
  },
  {
   "cell_type": "code",
   "execution_count": 7,
   "metadata": {},
   "outputs": [
    {
     "data": {
      "text/plain": [
       "CompletedProcess(args='python C:/Users/HP/mapkurator-spotter-main/spotter-v2/tools/inference.py --config-file C:/Users/HP/mapkurator-spotter-main/spotter-v2/configs/PALEJUN/Finetune/Base-SynthMap-Polygon.yaml --model_weights C:/Users/HP/detectron2-main/detectron2/checkpoint/model_v2_en.pth --input processed/crops/1871_whitney/h1_w0.jpg --output processed', returncode=0)"
      ]
     },
     "execution_count": 7,
     "metadata": {},
     "output_type": "execute_result"
    }
   ],
   "source": [
    "# here is a sample command if you want to run on one image (you must define filepath_to_jpg and filepath).\n",
    "filepath_to_jpg = \"processed/crops/saunders_1874/e2500_h0_w0/e2500_h0_w0.jpg\"\n",
    "filepath = \"processed\"\n",
    "command = f'python {inference_py_loc} --config-file {spotter_config} --model_weights {model_weights} --input {filepath_to_jpg} --output {filepath}'\n",
    "subprocess.run(command) #, shell=True)"
   ]
  }
 ],
 "metadata": {
  "kernelspec": {
   "display_name": "Python 3 (ipykernel)",
   "language": "python",
   "name": "python3"
  },
  "language_info": {
   "codemirror_mode": {
    "name": "ipython",
    "version": 3
   },
   "file_extension": ".py",
   "mimetype": "text/x-python",
   "name": "python",
   "nbconvert_exporter": "python",
   "pygments_lexer": "ipython3",
   "version": "3.8.18"
  },
  "varInspector": {
   "cols": {
    "lenName": 16,
    "lenType": 16,
    "lenVar": 40
   },
   "kernels_config": {
    "python": {
     "delete_cmd_postfix": "",
     "delete_cmd_prefix": "del ",
     "library": "var_list.py",
     "varRefreshCmd": "print(var_dic_list())"
    },
    "r": {
     "delete_cmd_postfix": ") ",
     "delete_cmd_prefix": "rm(",
     "library": "var_list.r",
     "varRefreshCmd": "cat(var_dic_list()) "
    }
   },
   "types_to_exclude": [
    "module",
    "function",
    "builtin_function_or_method",
    "instance",
    "_Feature"
   ],
   "window_display": false
  }
 },
 "nbformat": 4,
 "nbformat_minor": 4
}
