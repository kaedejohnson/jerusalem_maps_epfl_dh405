{
 "cells": [
  {
   "cell_type": "markdown",
   "metadata": {},
   "source": [
    "# 0: Import packages"
   ]
  },
  {
   "cell_type": "code",
   "execution_count": 110,
   "metadata": {},
   "outputs": [],
   "source": [
    "from PIL import Image, ImageFile #pip install Pillow==9.4.0\n",
    "import sys\n",
    "import os\n",
    "import numpy as np\n",
    "import logging\n",
    "import glob\n",
    "import subprocess\n",
    "\n",
    "logging.basicConfig(level=logging.INFO)\n",
    "Image.MAX_IMAGE_PIXELS=None\n",
    "ImageFile.LOAD_TRUNCATED_IMAGES = True"
   ]
  },
  {
   "cell_type": "markdown",
   "metadata": {},
   "source": [
    "# 1: Specify filepaths"
   ]
  },
  {
   "cell_type": "code",
   "execution_count": 111,
   "metadata": {},
   "outputs": [],
   "source": [
    "# Name folders for raw data and processed data\n",
    "map_data_topfolder = 'raw_maps_20231024'\n",
    "map_crops_topfolder = 'processed/crops'\n",
    "map_streg_topfolder = 'processed/streg'\n",
    "\n",
    "for fp in [map_crops_topfolder, map_streg_topfolder]:\n",
    "    if not os.path.isdir(fp):\n",
    "        os.makedirs(fp)\n",
    "\n",
    "# IMPORTANT! Locate spotter directory and detectron weights\n",
    "spotter_directory = 'C:/Users/HP/mapkurator-spotter-main/spotter-v2'\n",
    "model_weights = 'C:/Users/HP/detectron2-main/detectron2/checkpoint/model_v2_en.pth'\n",
    "\n",
    "# For assistance, see how the data should be organized\n",
    "from IPython.display import Image as ipyim\n",
    "#ipyim(filename=\"./directory_organization.jpg\", width=400, height = 200)"
   ]
  },
  {
   "cell_type": "markdown",
   "metadata": {},
   "source": [
    "# 2: Crop all jpeg maps in (user defined) map_data_topfolder"
   ]
  },
  {
   "cell_type": "code",
   "execution_count": 112,
   "metadata": {},
   "outputs": [
    {
     "name": "stdout",
     "output_type": "stream",
     "text": [
      "1818_sieber failed. Please ensure there is exactly 1 file with extension .jpeg in the folder.\n",
      "1822_richardson failed. Please ensure there is exactly 1 file with extension .jpeg in the folder.\n",
      "1823_westphal failed. Please ensure there is exactly 1 file with extension .jpeg in the folder.\n"
     ]
    },
    {
     "name": "stderr",
     "output_type": "stream",
     "text": [
      "INFO:root:Done cropping raw_maps_20231024/1827_failoni/failoni_1827.jpeg\n",
      "INFO:root:Done cropping raw_maps_20231024/1835_catherwood/catherwood_1835.jpeg\n",
      "INFO:root:Done cropping raw_maps_20231024/1835_catherwood_2/catherwood_1835_2.jpeg\n"
     ]
    },
    {
     "name": "stdout",
     "output_type": "stream",
     "text": [
      "1837_dufour failed. Please ensure there is exactly 1 file with extension .jpeg in the folder.\n"
     ]
    },
    {
     "name": "stderr",
     "output_type": "stream",
     "text": [
      "INFO:root:Done cropping raw_maps_20231024/1837_niebuhr/niebuhr_1837.jpeg\n",
      "INFO:root:Done cropping raw_maps_20231024/1841_aldrich_symonds/aldrich_symonds_1841.jpeg\n",
      "INFO:root:Done cropping raw_maps_20231024/1841_kiepert/kiepert_1841.jpeg\n",
      "INFO:root:Done cropping raw_maps_20231024/1841_kiepert_2/kiepert_1841_2.jpeg\n",
      "INFO:root:Done cropping raw_maps_20231024/1843_ball/ball_1843.jpeg\n",
      "INFO:root:Done cropping raw_maps_20231024/1845_kiepert/kiepert_1845.jpeg\n"
     ]
    },
    {
     "name": "stdout",
     "output_type": "stream",
     "text": [
      "1846_krafft failed. Please ensure there is exactly 1 file with extension .jpeg in the folder.\n"
     ]
    },
    {
     "name": "stderr",
     "output_type": "stream",
     "text": [
      "INFO:root:Done cropping raw_maps_20231024/1846_vandevelde/vandevelde_1846.jpeg\n"
     ]
    },
    {
     "name": "stdout",
     "output_type": "stream",
     "text": [
      "1846_vandevelde_2 failed. Please ensure there is exactly 1 file with extension .jpeg in the folder.\n"
     ]
    },
    {
     "name": "stderr",
     "output_type": "stream",
     "text": [
      "INFO:root:Done cropping raw_maps_20231024/1847_tobler/tobler_1847.jpeg\n"
     ]
    },
    {
     "name": "stdout",
     "output_type": "stream",
     "text": [
      "1848_gadow failed. Please ensure there is exactly 1 file with extension .jpeg in the folder.\n",
      "1852_lange failed. Please ensure there is exactly 1 file with extension .jpeg in the folder.\n"
     ]
    },
    {
     "name": "stderr",
     "output_type": "stream",
     "text": [
      "INFO:root:Done cropping raw_maps_20231024/1852_vandevelde/vandevelde_1852.jpeg\n",
      "INFO:root:Done cropping raw_maps_20231024/1852_vandevelde_2/vandevelde_1852_2.jpeg\n"
     ]
    },
    {
     "name": "stdout",
     "output_type": "stream",
     "text": [
      "1855_pierotti failed. Please ensure there is exactly 1 file with extension .jpeg in the folder.\n"
     ]
    },
    {
     "name": "stderr",
     "output_type": "stream",
     "text": [
      "INFO:root:Done cropping raw_maps_20231024/1856_kiepert/kiepert_1856.jpeg\n",
      "INFO:root:Done cropping raw_maps_20231024/1858_pierotti/pierotti_1858.jpeg\n",
      "INFO:root:Done cropping raw_maps_20231024/1858_vandevelde/vandevelde_1858.jpeg\n",
      "INFO:root:Done cropping raw_maps_20231024/1861_mandrot/mandrot_1861.jpeg\n",
      "INFO:root:Done cropping raw_maps_20231024/1863_gelis/gelis_1863.jpeg\n",
      "INFO:root:Done cropping raw_maps_20231024/1864_pierotti/pierotti_1864.jpeg\n",
      "INFO:root:Done cropping raw_maps_20231024/1865_riess/riess_1865.jpeg\n",
      "INFO:root:Done cropping raw_maps_20231024/1865_sandreczki/sandreczki_1865.jpeg\n",
      "INFO:root:Done cropping raw_maps_20231024/1865_wilson/wilson_1865.jpeg\n",
      "INFO:root:Done cropping raw_maps_20231024/1865_wilson_2/wilson_1865_2.jpeg\n",
      "INFO:root:Done cropping raw_maps_20231024/1866_gelis/gelis_1866.jpeg\n",
      "INFO:root:Done cropping raw_maps_20231024/1869_pierotti/pierotti_1869.jpeg\n",
      "INFO:root:Done cropping raw_maps_20231024/1869_pierotti_2/pierotti_1869_2.jpeg\n",
      "INFO:root:Done cropping raw_maps_20231024/1871_whitney/1871_whitney.jpeg\n"
     ]
    },
    {
     "name": "stdout",
     "output_type": "stream",
     "text": [
      "1870_warren failed. Please ensure there is exactly 1 file with extension .jpeg in the folder.\n"
     ]
    },
    {
     "name": "stderr",
     "output_type": "stream",
     "text": [
      "INFO:root:Done cropping raw_maps_20231024/1872_wolff/wolff_1872.jpeg\n",
      "INFO:root:Done cropping raw_maps_20231024/1873_condor/conder_1873.jpeg\n"
     ]
    },
    {
     "name": "stdout",
     "output_type": "stream",
     "text": [
      "1873_illes failed. Please ensure there is exactly 1 file with extension .jpeg in the folder.\n"
     ]
    },
    {
     "name": "stderr",
     "output_type": "stream",
     "text": [
      "INFO:root:Done cropping raw_maps_20231024/1874_saunders/saunders_1874.jpeg\n"
     ]
    },
    {
     "name": "stdout",
     "output_type": "stream",
     "text": [
      "1883_sandreczki failed. Please ensure there is exactly 1 file with extension .jpeg in the folder.\n"
     ]
    },
    {
     "name": "stderr",
     "output_type": "stream",
     "text": [
      "INFO:root:Done cropping raw_maps_20231024/1890_thuillier/thuillier_1890.jpeg\n"
     ]
    },
    {
     "name": "stdout",
     "output_type": "stream",
     "text": [
      "1894_schick failed. Please ensure there is exactly 1 file with extension .jpeg in the folder.\n"
     ]
    },
    {
     "name": "stderr",
     "output_type": "stream",
     "text": [
      "INFO:root:Done cropping raw_maps_20231024/1895_riess/riess_1895.jpeg\n"
     ]
    },
    {
     "name": "stdout",
     "output_type": "stream",
     "text": [
      "1911_vincent failed. Please ensure there is exactly 1 file with extension .jpeg in the folder.\n"
     ]
    }
   ],
   "source": [
    "def crop(img_path, output_dir):\n",
    "\n",
    "    map_name = os.path.basename(img_path).split('.')[0] # get the map name without extension\n",
    "    output_dir = os.path.join(output_dir, map_name)\n",
    "\n",
    "    if not os.path.isdir(output_dir):\n",
    "        os.makedirs(output_dir)\n",
    "\n",
    "    map_img = Image.open(img_path) \n",
    "    width, height = map_img.size \n",
    "\n",
    "    #print(width, height)\n",
    "\n",
    "    shift_size = 1000\n",
    "\n",
    "    # pad the image to the size divisible by shift-size\n",
    "    num_tiles_w = int(np.ceil(1. * width / shift_size))\n",
    "    num_tiles_h = int(np.ceil(1. * height / shift_size))\n",
    "    enlarged_width = int(shift_size * num_tiles_w)\n",
    "    enlarged_height = int(shift_size * num_tiles_h)\n",
    "\n",
    "    enlarged_map = Image.new(mode=\"RGB\", size=(enlarged_width, enlarged_height))\n",
    "    # paste map_imge to enlarged_map\n",
    "    enlarged_map.paste(map_img) \n",
    "\n",
    "    for idx in range(0, num_tiles_h):\n",
    "        for jdx in range(0, num_tiles_w):\n",
    "            img_clip = enlarged_map.crop((jdx * shift_size, idx * shift_size,(jdx + 1) * shift_size, (idx + 1) * shift_size, ))\n",
    "\n",
    "            out_path = os.path.join(output_dir, 'h' + str(idx) + '_w' + str(jdx) + '.jpg')\n",
    "            img_clip.save(out_path)\n",
    "\n",
    "    logging.info('Done cropping %s' %img_path )\n",
    "\n",
    "# Run crop on all maps\n",
    "for map_data_subfolder in next(os.walk(map_data_topfolder))[1]:\n",
    "    jpeg_list = glob.glob(map_data_topfolder + '/' + map_data_subfolder + '/*.jpeg')\n",
    "    if len(jpeg_list) != 1:\n",
    "        print(map_data_subfolder + \" failed. Please ensure there is exactly 1 file with extension .jpeg in the folder.\")\n",
    "    else:\n",
    "        map_image = jpeg_list[0].split(\"\\\\\")[1]\n",
    "        crop(map_data_topfolder + '/' + map_data_subfolder + \"/\" + map_image, map_crops_topfolder)\n",
    "\n",
    "# ex. hardcoded crop on one map\n",
    "# crop('original_maps/1858_pierotti/pierotti_1858.jpeg', 'cropped_maps')\n"
   ]
  },
  {
   "cell_type": "markdown",
   "metadata": {},
   "source": [
    "# 3: Scan for text in all crops in (user defined) map_scan_topfolder"
   ]
  },
  {
   "cell_type": "code",
   "execution_count": 114,
   "metadata": {},
   "outputs": [
    {
     "data": {
      "text/plain": [
       "CompletedProcess(args='python C:/Users/HP/mapkurator-spotter-main/spotter-v2/tools/inference.py --config-file C:/Users/HP/mapkurator-spotter-main/spotter-v2/configs/PALEJUN/Finetune/Base-SynthMap-Polygon.yaml --model_weights C:/Users/HP/detectron2-main/detectron2/checkpoint/model_v2_en.pth --output_json --inputs True --curr_wd c:/Users/HP/Documents/GitHub/jerusalem_maps_epfl_dh405 --map_crops_topfolder processed/crops --map_streg_topfolder processed/streg', returncode=0)"
      ]
     },
     "execution_count": 114,
     "metadata": {},
     "output_type": "execute_result"
    }
   ],
   "source": [
    "# Set up spotter arguments\n",
    "gpu_id = 0\n",
    "spotter_model = 'spotter-v2'\n",
    "spotter_config = spotter_directory + '/configs/PALEJUN/Finetune/Base-SynthMap-Polygon.yaml'\n",
    "inference_py_loc = spotter_directory + '/tools/inference.py'\n",
    "curr_wd = os.getcwd().replace(\"\\\\\",\"/\")\n",
    "\n",
    "# Run spotter on all files in processed/crops/\n",
    "command = f'python {inference_py_loc} --config-file {spotter_config} --model_weights {model_weights} --output_json --inputs True --curr_wd {curr_wd} --map_crops_topfolder {map_crops_topfolder} --map_streg_topfolder {map_streg_topfolder}'\n",
    "subprocess.run(command) #, shell=True)\n",
    "\n",
    "# if you remove --output_json, it will output a picture of the image with recognized text overlaid\n",
    "\n",
    "# here is a sample command if you want to run on one image (you must define filepath_to_jpg and filepath). note --output_json is removed (see comment above).\n",
    "command = f'python {inference_py_loc} --config-file {spotter_config} --model_weights {model_weights} --input {filepath_to_jpg} --map_streg_topfolder {filepath}'"
   ]
  }
 ],
 "metadata": {
  "kernelspec": {
   "display_name": "Python 3 (ipykernel)",
   "language": "python",
   "name": "python3"
  },
  "language_info": {
   "codemirror_mode": {
    "name": "ipython",
    "version": 3
   },
   "file_extension": ".py",
   "mimetype": "text/x-python",
   "name": "python",
   "nbconvert_exporter": "python",
   "pygments_lexer": "ipython3",
   "version": "3.8.18"
  },
  "varInspector": {
   "cols": {
    "lenName": 16,
    "lenType": 16,
    "lenVar": 40
   },
   "kernels_config": {
    "python": {
     "delete_cmd_postfix": "",
     "delete_cmd_prefix": "del ",
     "library": "var_list.py",
     "varRefreshCmd": "print(var_dic_list())"
    },
    "r": {
     "delete_cmd_postfix": ") ",
     "delete_cmd_prefix": "rm(",
     "library": "var_list.r",
     "varRefreshCmd": "cat(var_dic_list()) "
    }
   },
   "types_to_exclude": [
    "module",
    "function",
    "builtin_function_or_method",
    "instance",
    "_Feature"
   ],
   "window_display": false
  }
 },
 "nbformat": 4,
 "nbformat_minor": 4
}
