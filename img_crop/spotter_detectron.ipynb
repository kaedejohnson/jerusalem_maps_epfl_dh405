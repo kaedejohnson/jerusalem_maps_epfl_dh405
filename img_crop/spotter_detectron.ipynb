{
 "cells": [
  {
   "cell_type": "code",
   "execution_count": 64,
   "metadata": {},
   "outputs": [],
   "source": [
    "import ?"
   ]
  },
  {
   "cell_type": "code",
   "execution_count": null,
   "metadata": {},
   "outputs": [],
   "source": [
    "python run.py --spotter_config ./spotter-v2/PALEJUN/configs/PALEJUN/SynthMap/SynthMap_Polygon.yaml\n",
    "\n",
    "'mapkurator-spotter/spotter-v2/configs/PALEJUN/Finetune/Base-SynthMap-Polygon.yaml'\n",
    "\n",
    "--module_text_spotting turns on the spotting module in this run\n",
    "--sample_map_csv_path stores the metadata of the input map, a sample file can be found here.\n",
    "--text_spotting_model_dir switches to the model directory\n",
    "\n"
   ]
  },
  {
   "cell_type": "code",
   "execution_count": null,
   "metadata": {},
   "outputs": [],
   "source": [
    "gpu_id = 0\n",
    "spotter_model = 'spotter-v2'\n",
    "spotter_config = args.spotter_config"
   ]
  },
  {
   "cell_type": "code",
   "execution_count": null,
   "metadata": {},
   "outputs": [],
   "source": [
    "# ------------------------- Text Spotting (patch level) ------------------------------\n",
    "if module_text_spotting:\n",
    "    assert os.path.exists(spotter_config), \"Config file for spotter must exist!\"\n",
    "    os.chdir(text_spotting_model_dir) \n",
    "    os.system(\"python setup.py build develop 1> /dev/null\")\n",
    "\n",
    "    for index, record in sample_map_df.iterrows():\n",
    "\n",
    "        external_id = record.external_id\n",
    "        if \"sample_map_path\" in locals():\n",
    "            if external_id not in external_id_to_img_path_dict:\n",
    "                error_reason_dict[external_id] = {'img_path':None, 'error':'key not in external_id_to_img_path_dict'} \n",
    "                continue \n",
    "            img_path = external_id_to_img_path_dict[external_id]\n",
    "        else:\n",
    "            img_path = sample_map_df['external_id'].iloc[index]\n",
    "\n",
    "        map_name = os.path.basename(img_path).split('.')[0]\n",
    "        # print(map_name)\n",
    "\n",
    "        map_spotting_output_dir = os.path.join(spotting_output_dir, map_name)\n",
    "        \n",
    "        if not os.path.isdir(map_spotting_output_dir):\n",
    "            os.makedirs(map_spotting_output_dir)\n",
    "        else:\n",
    "            num_existing_json = len(glob.glob(os.path.join(map_spotting_output_dir, '*.json')))\n",
    "            num_existing_images = len(glob.glob(os.path.join(cropping_output_dir, map_name, '*jpg')))\n",
    "            if num_existing_json == num_existing_images:\n",
    "                continue\n",
    "            else:\n",
    "                print(f'{index}/{len(sample_map_df)}: Re-run spotting for map {map_name}')\n",
    "                import shutil\n",
    "                shutil.rmtree(map_spotting_output_dir)\n",
    "                os.makedirs(map_spotting_output_dir)        \n",
    "\n",
    "        if spotter_model in ['testr', 'spotter-v2', 'palette']:\n",
    "            run_spotting_command = f'CUDA_VISIBLE_DEVICES={gpu_id} python tools/inference.py --config-file {spotter_config} --output_json --input {os.path.join(cropping_output_dir,map_name)} --output {map_spotting_output_dir}'\n",
    "        else:\n",
    "            raise NotImplementedError\n",
    "        \n",
    "        # print(run_spotting_command)\n",
    "        run_spotting_command  += ' 1> /dev/null'\n",
    "    \n",
    "        exe_ret = execute_command(run_spotting_command, if_print_command)  \n",
    "        if \"sample_map_path\" in locals():   \n",
    "            if 'error' in exe_ret:\n",
    "                error = exe_ret['error']\n",
    "                error_reason_dict[external_id] = {'img_path':img_path, 'error': error } \n",
    "        \n",
    "        # elif 'time_usage' in exe_ret:\n",
    "        #     time_usage = exe_ret['time_usage']\n",
    "        #     time_usage_dict[external_id]['spotting'] = time_usage\n",
    "        # else:\n",
    "        #     raise NotImplementedError\n",
    "\n",
    "        logging.info(f'{index}/{len(sample_map_df)}: Done text spotting for {map_name}')\n",
    "        \n",
    "# time_text_spotting = time.time()\n",
    "    "
   ]
  }
 ],
 "metadata": {
  "kernelspec": {
   "display_name": "Python 3 (ipykernel)",
   "language": "python",
   "name": "python3"
  },
  "language_info": {
   "codemirror_mode": {
    "name": "ipython",
    "version": 3
   },
   "file_extension": ".py",
   "mimetype": "text/x-python",
   "name": "python",
   "nbconvert_exporter": "python",
   "pygments_lexer": "ipython3",
   "version": "3.8.18"
  },
  "varInspector": {
   "cols": {
    "lenName": 16,
    "lenType": 16,
    "lenVar": 40
   },
   "kernels_config": {
    "python": {
     "delete_cmd_postfix": "",
     "delete_cmd_prefix": "del ",
     "library": "var_list.py",
     "varRefreshCmd": "print(var_dic_list())"
    },
    "r": {
     "delete_cmd_postfix": ") ",
     "delete_cmd_prefix": "rm(",
     "library": "var_list.r",
     "varRefreshCmd": "cat(var_dic_list()) "
    }
   },
   "types_to_exclude": [
    "module",
    "function",
    "builtin_function_or_method",
    "instance",
    "_Feature"
   ],
   "window_display": false
  }
 },
 "nbformat": 4,
 "nbformat_minor": 4
}
